{
 "cells": [
  {
   "cell_type": "code",
   "execution_count": 1,
   "id": "da607bfe",
   "metadata": {},
   "outputs": [],
   "source": [
    "import pymysql\n",
    "import pandas as pd"
   ]
  },
  {
   "cell_type": "code",
   "execution_count": 2,
   "id": "ae1305f8",
   "metadata": {},
   "outputs": [],
   "source": [
    "# sql관련 \"docker-compose.yml\"확인 => (cmd로 명령어)\"docker-compose up -d\"실행후 아래코드 실행\n",
    "# 커넥션 객체 생성\n",
    "conn = pymysql.connect(\n",
    "    host=\"localhost\", port=3306, user=\"Hyundai\", passwd=\"hyundai\",\n",
    "    database=\"hyundai_faq_db\", charset=\"utf8\"\n",
    ")"
   ]
  },
  {
   "cell_type": "code",
   "execution_count": 3,
   "id": "6c67d3f7",
   "metadata": {},
   "outputs": [],
   "source": [
    "# 커서 객체가 생성됨\n",
    "cur = conn.cursor(\n",
    "    pymysql.cursors.DictCursor\n",
    ")"
   ]
  },
  {
   "cell_type": "code",
   "execution_count": 4,
   "id": "6e87d616",
   "metadata": {},
   "outputs": [
    {
     "data": {
      "text/plain": [
       "4"
      ]
     },
     "execution_count": 4,
     "metadata": {},
     "output_type": "execute_result"
    }
   ],
   "source": [
    "sql = \"\"\"\n",
    "    show tables;\n",
    "\"\"\"\n",
    "\n",
    "# sql 실행\n",
    "cur.execute(query=sql)"
   ]
  },
  {
   "cell_type": "code",
   "execution_count": 5,
   "id": "69a7837a",
   "metadata": {},
   "outputs": [
    {
     "data": {
      "text/plain": [
       "[{'Tables_in_hyundai_faq_db': 'faq'},\n",
       " {'Tables_in_hyundai_faq_db': 'faq_category'},\n",
       " {'Tables_in_hyundai_faq_db': 'Top_5'},\n",
       " {'Tables_in_hyundai_faq_db': '현대자동차_카테고리별'}]"
      ]
     },
     "execution_count": 5,
     "metadata": {},
     "output_type": "execute_result"
    }
   ],
   "source": [
    "# sql 실행 결과물 리턴\n",
    "result = cur.fetchall()\n",
    "result"
   ]
  },
  {
   "cell_type": "code",
   "execution_count": 6,
   "id": "ddd14c5a",
   "metadata": {},
   "outputs": [
    {
     "data": {
      "text/plain": [
       "203"
      ]
     },
     "execution_count": 6,
     "metadata": {},
     "output_type": "execute_result"
    }
   ],
   "source": [
    "# FAQ 필요한 데이터 추출\n",
    "sql = \"\"\"\n",
    "    select category_id, question, answer\n",
    "    from faq;\n",
    "\"\"\"\n",
    "cur.execute(query=sql)"
   ]
  },
  {
   "cell_type": "code",
   "execution_count": 7,
   "id": "f4497336",
   "metadata": {},
   "outputs": [
    {
     "data": {
      "text/html": [
       "<div>\n",
       "<style scoped>\n",
       "    .dataframe tbody tr th:only-of-type {\n",
       "        vertical-align: middle;\n",
       "    }\n",
       "\n",
       "    .dataframe tbody tr th {\n",
       "        vertical-align: top;\n",
       "    }\n",
       "\n",
       "    .dataframe thead th {\n",
       "        text-align: right;\n",
       "    }\n",
       "</style>\n",
       "<table border=\"1\" class=\"dataframe\">\n",
       "  <thead>\n",
       "    <tr style=\"text-align: right;\">\n",
       "      <th></th>\n",
       "      <th>category_id</th>\n",
       "      <th>question</th>\n",
       "      <th>answer</th>\n",
       "    </tr>\n",
       "  </thead>\n",
       "  <tbody>\n",
       "    <tr>\n",
       "      <th>0</th>\n",
       "      <td>차량구매</td>\n",
       "      <td>장애인 조건으로 차량구입시 혜택을 알고 싶습니다.</td>\n",
       "      <td>▶ 장애인 조건으로 차량 구입시 혜택은 크게 3가지 입니다.  ① 차량 개소세 면...</td>\n",
       "    </tr>\n",
       "    <tr>\n",
       "      <th>1</th>\n",
       "      <td>차량구매</td>\n",
       "      <td>현대자동차에서 중고차를 구입할 수 있나요?</td>\n",
       "      <td>저희 현대자동차는 신차를 제조하여 판매를 사업영역으로 하는 회사로 중고차의 매입 및...</td>\n",
       "    </tr>\n",
       "    <tr>\n",
       "      <th>2</th>\n",
       "      <td>차량구매</td>\n",
       "      <td>포인트는 유효기간이 있나요?</td>\n",
       "      <td>▶ 현대카드M M포인트 및 현대자동차 제휴카드 포인트의 유효기간은 최초적립일로부터...</td>\n",
       "    </tr>\n",
       "    <tr>\n",
       "      <th>3</th>\n",
       "      <td>차량구매</td>\n",
       "      <td>세이브오토 이용에 관해 알고 싶습니다.</td>\n",
       "      <td>▶ 현대자동차 신차 구입시 현대카드M을 이용하여 선수금을 10만원 이상 결제하시는...</td>\n",
       "    </tr>\n",
       "    <tr>\n",
       "      <th>4</th>\n",
       "      <td>차량구매</td>\n",
       "      <td>차량구입시 신용카드는 얼마까지 이용할 수 있나요?</td>\n",
       "      <td>▶ 자동차 구입시 신용카드를 이용한 결제는 고객님 신용카드 한도내에서 희망하시는 ...</td>\n",
       "    </tr>\n",
       "    <tr>\n",
       "      <th>...</th>\n",
       "      <td>...</td>\n",
       "      <td>...</td>\n",
       "      <td>...</td>\n",
       "    </tr>\n",
       "    <tr>\n",
       "      <th>198</th>\n",
       "      <td>현대 디지털 키</td>\n",
       "      <td>핀번호 잊은 경우에는 어떻게 하나요?</td>\n",
       "      <td>홈페이지에서 마이페이지 상에 PIN 초기화 시, 탈퇴 없이도 본인인증을 하면 PIN...</td>\n",
       "    </tr>\n",
       "    <tr>\n",
       "      <th>199</th>\n",
       "      <td>현대 디지털 키</td>\n",
       "      <td>홈페이지 지원기종 탭에 없지만 최신 기종 이라면 언제 업데이트 예정인가요?</td>\n",
       "      <td>현대 디지털 키 호환성 검증은 당사 연구소 주관으로 분기 및 반기에 1회 실시 합니...</td>\n",
       "    </tr>\n",
       "    <tr>\n",
       "      <th>200</th>\n",
       "      <td>현대 디지털 키</td>\n",
       "      <td>어플 삭제 후 재 설치 시 차량 정보 조회 오류가 발생합니다.</td>\n",
       "      <td>일반적으로 신차 구매자의 경우, 디지털 키 App 삭제후 재설치 한 다음에 동일한 ...</td>\n",
       "    </tr>\n",
       "    <tr>\n",
       "      <th>201</th>\n",
       "      <td>현대 디지털 키</td>\n",
       "      <td>LG 핸드폰은 GPS ON 해야 디지털키 사용이 가능한가요?</td>\n",
       "      <td>LG 기종 뿐만 아니라 삼성 기종에서도 일부 제조사/통신사 전용 서비스(각종 페이 ...</td>\n",
       "    </tr>\n",
       "    <tr>\n",
       "      <th>202</th>\n",
       "      <td>현대 디지털 키</td>\n",
       "      <td>데이터가 없거나 수신이 안되는 지역에서도 사용이 가능한가요?</td>\n",
       "      <td>데이터가 없거나 수신이 안되는 지역에서 사용시 문자 나옴 (오프라인에서 15회 사용...</td>\n",
       "    </tr>\n",
       "  </tbody>\n",
       "</table>\n",
       "<p>203 rows × 3 columns</p>\n",
       "</div>"
      ],
      "text/plain": [
       "    category_id                                   question  \\\n",
       "0          차량구매                장애인 조건으로 차량구입시 혜택을 알고 싶습니다.   \n",
       "1          차량구매                    현대자동차에서 중고차를 구입할 수 있나요?   \n",
       "2          차량구매                            포인트는 유효기간이 있나요?   \n",
       "3          차량구매                      세이브오토 이용에 관해 알고 싶습니다.   \n",
       "4          차량구매                차량구입시 신용카드는 얼마까지 이용할 수 있나요?   \n",
       "..          ...                                        ...   \n",
       "198    현대 디지털 키                       핀번호 잊은 경우에는 어떻게 하나요?   \n",
       "199    현대 디지털 키  홈페이지 지원기종 탭에 없지만 최신 기종 이라면 언제 업데이트 예정인가요?   \n",
       "200    현대 디지털 키         어플 삭제 후 재 설치 시 차량 정보 조회 오류가 발생합니다.   \n",
       "201    현대 디지털 키          LG 핸드폰은 GPS ON 해야 디지털키 사용이 가능한가요?   \n",
       "202    현대 디지털 키          데이터가 없거나 수신이 안되는 지역에서도 사용이 가능한가요?   \n",
       "\n",
       "                                                answer  \n",
       "0     ▶ 장애인 조건으로 차량 구입시 혜택은 크게 3가지 입니다.  ① 차량 개소세 면...  \n",
       "1    저희 현대자동차는 신차를 제조하여 판매를 사업영역으로 하는 회사로 중고차의 매입 및...  \n",
       "2     ▶ 현대카드M M포인트 및 현대자동차 제휴카드 포인트의 유효기간은 최초적립일로부터...  \n",
       "3     ▶ 현대자동차 신차 구입시 현대카드M을 이용하여 선수금을 10만원 이상 결제하시는...  \n",
       "4     ▶ 자동차 구입시 신용카드를 이용한 결제는 고객님 신용카드 한도내에서 희망하시는 ...  \n",
       "..                                                 ...  \n",
       "198  홈페이지에서 마이페이지 상에 PIN 초기화 시, 탈퇴 없이도 본인인증을 하면 PIN...  \n",
       "199  현대 디지털 키 호환성 검증은 당사 연구소 주관으로 분기 및 반기에 1회 실시 합니...  \n",
       "200  일반적으로 신차 구매자의 경우, 디지털 키 App 삭제후 재설치 한 다음에 동일한 ...  \n",
       "201  LG 기종 뿐만 아니라 삼성 기종에서도 일부 제조사/통신사 전용 서비스(각종 페이 ...  \n",
       "202  데이터가 없거나 수신이 안되는 지역에서 사용시 문자 나옴 (오프라인에서 15회 사용...  \n",
       "\n",
       "[203 rows x 3 columns]"
      ]
     },
     "execution_count": 7,
     "metadata": {},
     "output_type": "execute_result"
    }
   ],
   "source": [
    "result = cur.fetchall()\n",
    "pd.DataFrame(data=result)"
   ]
  },
  {
   "cell_type": "code",
   "execution_count": null,
   "id": "cd1805c9",
   "metadata": {},
   "outputs": [],
   "source": []
  }
 ],
 "metadata": {
  "kernelspec": {
   "display_name": ".venv",
   "language": "python",
   "name": "python3"
  },
  "language_info": {
   "codemirror_mode": {
    "name": "ipython",
    "version": 3
   },
   "file_extension": ".py",
   "mimetype": "text/x-python",
   "name": "python",
   "nbconvert_exporter": "python",
   "pygments_lexer": "ipython3",
   "version": "3.13.5"
  }
 },
 "nbformat": 4,
 "nbformat_minor": 5
}
