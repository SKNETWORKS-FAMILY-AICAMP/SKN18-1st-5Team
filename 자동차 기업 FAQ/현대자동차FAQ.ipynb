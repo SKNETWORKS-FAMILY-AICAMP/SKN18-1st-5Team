{
 "cells": [
  {
   "cell_type": "code",
   "execution_count": 1,
   "id": "70ed2525",
   "metadata": {},
   "outputs": [],
   "source": [
    "import requests\n",
    "import pandas as pd\n",
    "import json\n",
    "import re\n",
    "import html\n",
    "import csv"
   ]
  },
  {
   "cell_type": "code",
   "execution_count": 2,
   "id": "041ea04e",
   "metadata": {},
   "outputs": [
    {
     "data": {
      "text/plain": [
       "<Response [200]>"
      ]
     },
     "execution_count": 2,
     "metadata": {},
     "output_type": "execute_result"
    }
   ],
   "source": [
    "# 현대자동차는 비동기 방식으로 페이지별로 URL을 불러와 데이터를 수집해야함\n",
    "# 1페이지\n",
    "url = \"https://www.hyundai.com/wsvc/front/biz/frontFaq.faqListArr.do?searchKeyword=&pageNo=1&frontSupiCtgr=&frontCtgrScd=\"\n",
    "response = requests.get(url)\n",
    "response"
   ]
  },
  {
   "cell_type": "code",
   "execution_count": 3,
   "id": "94c20f14",
   "metadata": {},
   "outputs": [
    {
     "data": {
      "text/plain": [
       "{'data': [{'frontFaqSn': '428',\n",
       "   'frontFaqTitlSbc': '내비게이션의 지도 업그레이드는 어떻게 하나요?',\n",
       "   'frontFaqSbc': '모젠 지도 업그레이드는 차량용 A/V 및 내비게이션 A/S를 담당하고 있는&lt;br&gt;현대 웰슨에서 수행하고 있습니다.&lt;br&gt;&amp;nbsp;&lt;br&gt;전국 현대자동차 23개 직영서비스 센터와 기아자동차 11개 직영서비스 센터에서&lt;br&gt;현대 웰슨 A/S요원이 상주 근무하고 있으며&lt;br&gt;전국 115개소의 현대 웰슨 협력점에서 지도 업그레이드가 가능합니다.&lt;br&gt;&amp;nbsp;&lt;br&gt;모젠고객센터 1588-8111로 전화주시면 지도 업그레이드 상담이 가능하며&lt;br&gt;업그레이드 가능한 가까운 서비스센터에 대한 안내를 받으실 수 있습니다.',\n",
       "   'frontDsplTrn': 0,\n",
       "   'fileList': [],\n",
       "   'filePaths': [],\n",
       "   'imagePaths': [],\n",
       "   'frontSupiCtgr': '09',\n",
       "   'frontCtgrScd': '002',\n",
       "   'frontSupiCtgrNM': '모젠서비스',\n",
       "   'frontCtgrScdNM': '이용단말'},\n",
       "  {'frontFaqSn': '473',\n",
       "   'frontFaqTitlSbc': '[가입] 블루링크에 가입하려면 어떻게 해야 하나요?',\n",
       "   'frontFaqSbc': '&lt;p&gt;차종에 따른 가입방법은 현대자동차 홈페이지 내 블루링크 이용안내 페이지에서 확인하실 수 있습니다&lt;span lang=\"EN-US\"&gt;.&lt;/span&gt;&lt;/p&gt;&lt;p&gt;※ 현대자동차 홈폐이지 &amp;gt; 고객서비스 &amp;gt; 블루링크 &amp;gt; 이용안내 &amp;gt; 서비스 가입 &amp;nbsp; &lt;span style=\"color: #006992;\"&gt;&lt;a href=\"https://www.hyundai.com/kr/ko/customer-service/bluelink/use-guide/join\" rel=\"noopener noreferrer\" target=\"_blank\"&gt;▶바로가기&lt;/a&gt;&lt;/span&gt;&lt;/p&gt;&lt;p&gt;&amp;nbsp;&lt;/p&gt;',\n",
       "   'frontDsplTrn': 0,\n",
       "   'fileList': [],\n",
       "   'filePaths': [],\n",
       "   'imagePaths': [],\n",
       "   'frontSupiCtgr': '10',\n",
       "   'frontCtgrScd': '001',\n",
       "   'frontSupiCtgrNM': '블루링크',\n",
       "   'frontCtgrScdNM': '가입/해지/변경'},\n",
       "  {'frontFaqSn': '12',\n",
       "   'frontFaqTitlSbc': '에어컨 성능을 향상시키는 방법 안내',\n",
       "   'frontFaqSbc': '●에어컨 작동은 1단부터 작동하기 보다는 최고단수부터 작동하는 것이 좋습니다.<br/>\\r\\n<br/>\\r\\n☞에어컨을 처음 틀때 1,2단이 아닌 3,4단부터 시작하는 게 냉각효율과 에너지 절약에 도움되며,<br/>\\r\\n공기순환 모드를 잘 활용하면 냉방효과를 더욱 높일 수 있습니다. <br/>\\r\\n차내 급속 냉방을 위해서는 내기순환 모드에서 에어컨을 가동하고, 최고단수로 5분 정도 작동한 뒤<br/>조정하는 게 효과적입니다.<br/><br/>\\r\\n\\r\\n●에어컨 콘덴서&#40;응축기&#41;를 청소합시다.<br/>\\r\\n<br/>\\r\\n☞엔진오일 교환이나 세차 때 정비사에게 에어컨 컨덴서&#40;응축기&#41; 외부에 붙어있는 벌레,이물질,먼지<br/> 등을 압축공기나 고압세차기로 청소해달라고 부탁하면 10% 정도의 냉각효을 상승 효과를 기대<br/>할 수 있습니다.<br/>\\r\\n콘덴서는 라디에이터 앞에 설치돼 차량속도와 냉각팬에 의해 기체상태의 냉매를 고압의 액체상태로<br/> 만드는 장치로, 이물질이 붙어 있으면 공기가 잘 통하지 못해 냉각효율이 떨어집니다.\\r\\n<br/><br/>\\r\\n\\r\\n●차 안의 열을 식힌 후 에어컨을 사용하세요.<br/>\\r\\n<br/>\\r\\n☞강한 여름볕에 장시간 주차했을 때 실내도는 80도 가까이 올라간다고 합니다. <br/>\\r\\n이런 차 안에서 바로 에어컨을 작동시켜도 에어컨 효과를 보기가 어렵습니다. 우선, 차문 한쪽을 열고<br/>\\r\\n반대쪽 문을 열었다 닫었다를 수 차례 반복하여 실내의 더운공기를 배출하여 열을 식힌 후 에어컨을<br/>\\r\\n켜야하며, 주차는 그늘을 찾아서 주차하는게 좋습니다.<br/>\\r\\n<br/>\\r\\n●실내 에어필터를 점검하고 교환합시다.<br/>\\r\\n<br/>\\r\\n☞요즘 차들은 대부분 실내 에어필터가 달려 나옵니다. <br/>\\r\\n하지만 자신의 차량에 에어필터가 달려 있는지 조차 모르는 운전자도 적지 않습니다. <br/>\\r\\n실내 에어필터를 제때 갈아주지 않으면 퀴퀴한 냄새뿐 아니라 바람까지 약하게 나옵니다.<br/>\\r\\n<br/>\\r\\n항균필터가 달린 차라면 국내여건상 봄에는 황사, 여름에는 에어컨 사용, 겨울에는 히터를 사용하기 전<br/>\\r\\n최소한 1년에 3번 정도는 필터 점검이 필요하며, 오염이 심할경우 교환해주고 매 15,000km 마다<br/>\\r\\n교환하도록 되어 있습니다.\\r\\n<br/>\\r\\n항균필터를 떼어낸 후 바람을 최대한으로 돌리면 공기 통로에 있는 먼지를 털어 낼 수 있습니다.^^',\n",
       "   'frontDsplTrn': 0,\n",
       "   'fileList': [],\n",
       "   'filePaths': [],\n",
       "   'imagePaths': [],\n",
       "   'frontSupiCtgr': '02',\n",
       "   'frontCtgrScd': '001',\n",
       "   'frontSupiCtgrNM': '차량정비',\n",
       "   'frontCtgrScdNM': '일반'},\n",
       "  {'frontFaqSn': '449',\n",
       "   'frontFaqTitlSbc': '[원격제어] 원격 공조 제어 서비스 이용시 시동만 켤 수는 없나요? ',\n",
       "   'frontFaqSbc': '&lt;p&gt;원격시동&lt;span lang=\"EN-US\"&gt;/&lt;/span&gt;공조 기능은 공조를 미리 제어 하기 위해 시동이 함께 필요한 서비스이므로 분리해서 사용이 불가능합니다&lt;span lang=\"EN-US\"&gt;.&lt;/span&gt;&lt;/p&gt;',\n",
       "   'frontDsplTrn': 0,\n",
       "   'fileList': [],\n",
       "   'filePaths': [],\n",
       "   'imagePaths': [],\n",
       "   'frontSupiCtgr': '10',\n",
       "   'frontCtgrScd': '002',\n",
       "   'frontSupiCtgrNM': '블루링크',\n",
       "   'frontCtgrScdNM': '서비스 이용'},\n",
       "  {'frontFaqSn': '662',\n",
       "   'frontFaqTitlSbc': '[가입확인서] 가입확인서는 어떻게 발급받나요?',\n",
       "   'frontFaqSbc': '&lt;p&gt;가입확인서는&amp;nbsp;홈페이지와 블루링크 어플리케이션을 통해 발급받으실 수 있습니다.&lt;/p&gt;&lt;p&gt;▶ 홈페이지&lt;/p&gt;&lt;p&gt;&amp;nbsp; &amp;nbsp; &amp;nbsp;1) 현대자동차 홈페이지(&lt;a href=\"http://www.hyundai.com\"&gt;www.hyundai.com&lt;/a&gt;) 로그인&lt;/p&gt;&lt;p&gt;&amp;nbsp; &amp;nbsp; &amp;nbsp;2) 우측 상단 &amp;#39;마이페이지&amp;#39; 클릭&lt;/p&gt;&lt;p&gt;&amp;nbsp; &amp;nbsp; &amp;nbsp;3) 최하단 &amp;#39;블루링크 가입확인서 발급&amp;#39; 클릭&lt;/p&gt;&lt;p&gt;▶&amp;nbsp;블루링크 어플리케이션&lt;/p&gt;&lt;p&gt;&amp;nbsp; &amp;nbsp; 1) 어플리케이션 로그인&lt;/p&gt;&lt;p&gt;&amp;nbsp; &amp;nbsp; 2) 메인화면 좌측 상단의 &amp;#39;메뉴(三)&amp;#39; 버튼 클릭&lt;/p&gt;&lt;p&gt;&amp;nbsp; &amp;nbsp; 3) &amp;#39;월간 리포트&amp;#39; 클릭&lt;/p&gt;&lt;p&gt;&amp;nbsp; &amp;nbsp; 4) &amp;#39;블루링크 가입확인서 발급&amp;#39; 항목의 &amp;#39;가입확인서 발급&amp;#39; 클릭&lt;/p&gt;&lt;p&gt;&lt;br&gt;&lt;/p&gt;',\n",
       "   'frontDsplTrn': 0,\n",
       "   'fileList': [],\n",
       "   'filePaths': [],\n",
       "   'imagePaths': [],\n",
       "   'frontSupiCtgr': '10',\n",
       "   'frontCtgrScd': '002',\n",
       "   'frontSupiCtgrNM': '블루링크',\n",
       "   'frontCtgrScdNM': '서비스 이용'},\n",
       "  {'frontFaqSn': '72',\n",
       "   'frontFaqTitlSbc': '리모컨,스마트키 분실 또는 추가로 구입을 원할경우',\n",
       "   'frontFaqSbc': '&lt;p&gt;리모컨 분실로 추가 구입을 원하실 경우, 당사 서비스망에 차를 가지고 내방을 하시거나,&lt;/p&gt;&lt;p&gt;모비스 부품대리점을 통해 리모컨을 선구입후 (현대 모비스(1588-7278)로 문의) 차량과 함께&lt;/p&gt;&lt;p&gt;현대자동차 서비스망 내방 하셔서 주파수 셋팅 후에 사용 하시면 됩니다.&lt;/p&gt;&lt;p data-empty=\"true\"&gt;&lt;br&gt;&lt;/p&gt;&lt;p&gt;※ 당사 서비스망은 현대자동차홈페이지 &amp;nbsp;&amp;gt; 고객서비스 &amp;gt; 서비스네트워크 &amp;gt; 서비스네트워크 검색/예약 &amp;nbsp;참조 &amp;nbsp;&lt;span style=\"color: #006992;\"&gt;&lt;a href=\"https://www.hyundai.com/kr/ko/customer-service/service-network/service-reservation-search\" rel=\"noopener noreferrer\" target=\"_blank\"&gt;▶바로가기&lt;/a&gt;&lt;/span&gt;&lt;/p&gt;',\n",
       "   'frontDsplTrn': 0,\n",
       "   'fileList': [],\n",
       "   'filePaths': [],\n",
       "   'imagePaths': [],\n",
       "   'frontSupiCtgr': '02',\n",
       "   'frontCtgrScd': '001',\n",
       "   'frontSupiCtgrNM': '차량정비',\n",
       "   'frontCtgrScdNM': '일반'},\n",
       "  {'frontFaqSn': '475',\n",
       "   'frontFaqTitlSbc': '[해지] 블루링크를 해지하려면 어떻게 해야 하나요? ',\n",
       "   'frontFaqSbc': '&lt;p&gt;블루링크 센터를 통해 서비스를 해지하실 수 있습니다&lt;span lang=\"EN-US\"&gt;.&lt;/span&gt;&lt;/p&gt;&lt;p&gt;① 블루링크 센터 전화 연결&lt;/p&gt;&lt;p&gt;② 해지 신청서 작성 및 구비서류 준비&lt;/p&gt;&lt;p&gt;&lt;span lang=\"EN-US\"&gt;&amp;nbsp; &amp;nbsp; &amp;nbsp;-&amp;nbsp;&lt;/span&gt;해지신청서는 홈페이지의 블루링크 자료실에서 다운로드하실 수 있습니다&lt;span lang=\"EN-US\"&gt;.&lt;/span&gt;&lt;/p&gt;&lt;p&gt;&lt;span lang=\"EN-US\"&gt;&amp;nbsp; &amp;nbsp; &amp;nbsp;-&amp;nbsp;&lt;/span&gt;구비서류&lt;/p&gt;&lt;p&gt;&amp;nbsp; &amp;nbsp; &amp;nbsp; &amp;nbsp; &amp;gt; 개인 : 신분증 사본&lt;br&gt;&amp;nbsp; &amp;nbsp; &amp;nbsp; &amp;nbsp; &amp;gt; 개인사업자 &lt;span lang=\"EN-US\"&gt;:&amp;nbsp;&lt;/span&gt;본인&lt;span lang=\"EN-US\"&gt;(&lt;/span&gt;대표자&lt;span lang=\"EN-US\"&gt;)&amp;nbsp;&lt;/span&gt;신분증 사본&lt;span lang=\"EN-US\"&gt;,&amp;nbsp;&lt;/span&gt;사업자등록증 사본&lt;span lang=\"EN-US\"&gt;,&amp;nbsp;&lt;/span&gt;인감증명서&lt;span lang=\"EN-US\"&gt;,&amp;nbsp;&lt;/span&gt;직원의 신분증 또는 재직증명서&lt;br&gt;&amp;nbsp; &amp;nbsp; &amp;nbsp; &amp;nbsp; &amp;gt; 법인 : 사업자 등록증 사본, 인감증명서, 직원의 신분증 혹은 재직증명서&lt;br&gt;&amp;nbsp; &amp;nbsp; &amp;nbsp; &amp;nbsp; &amp;gt; 대리인이 해지 신청을 하시는 경우&amp;nbsp;&lt;/p&gt;&lt;p&gt;&amp;nbsp; &amp;nbsp; &amp;nbsp; &amp;nbsp; &amp;nbsp; &amp;nbsp; ☞ 전화로 고객 본인 의사 확인 가능시&lt;span lang=\"EN-US\"&gt;&amp;nbsp;:&amp;nbsp;&lt;/span&gt;가입자 신분증 및 대리인 신분증 사본&lt;/p&gt;&lt;p&gt;&amp;nbsp; &amp;nbsp; &amp;nbsp; &amp;nbsp; &amp;nbsp; &amp;nbsp; ☞ 전화로 고객 본인 의사 확인이 불가능시&lt;span lang=\"EN-US\"&gt;&amp;nbsp;:&amp;nbsp;&lt;/span&gt;대리인의 신분증 및 위임장&lt;span lang=\"EN-US\"&gt;(&lt;/span&gt;인감 날인&lt;span lang=\"EN-US\"&gt;)&lt;/span&gt;&lt;/p&gt;&lt;p&gt;③ 팩스나 이메일을 이용해 블루링크 센터에 해지 신청서와 구비서류 제출&lt;/p&gt;&lt;p&gt;- FAX : 031-8086-1894&lt;/p&gt;&lt;p&gt;&lt;span lang=\"EN-US\"&gt;-&amp;nbsp;&lt;/span&gt;이메일&lt;span lang=\"EN-US\"&gt;&amp;nbsp;:&amp;nbsp;&lt;/span&gt;&lt;span lang=\"EN-US\"&gt;&lt;a href=\"mailto:tmsmaster@hyundai.com\"&gt;tmsmaster@hyundai.com&lt;/a&gt;&lt;/span&gt;&lt;/p&gt;&lt;p&gt;&lt;br&gt;&lt;/p&gt;&lt;p&gt;※ 블루링크 센터&lt;/p&gt;&lt;p&gt;&lt;span lang=\"EN-US\"&gt;-&amp;nbsp;&lt;/span&gt;전화&lt;span lang=\"EN-US\"&gt;&amp;nbsp;:&amp;nbsp;&lt;/span&gt;&lt;span lang=\"EN-US\"&gt;1899-0606&lt;/span&gt;&lt;/p&gt;&lt;p&gt;&lt;span lang=\"EN-US\"&gt;-&amp;nbsp;&lt;/span&gt;업무시간&lt;span lang=\"EN-US\"&gt;&amp;nbsp;:&amp;nbsp;&lt;/span&gt;평일 &lt;span lang=\"EN-US\"&gt;09:00 ~ 18:00 (&lt;/span&gt;토&lt;span lang=\"EN-US\"&gt;/&lt;/span&gt;일요일 및 공휴일 휴무&lt;span lang=\"EN-US\"&gt;)&lt;/span&gt;&lt;/p&gt;',\n",
       "   'frontDsplTrn': 0,\n",
       "   'fileList': [],\n",
       "   'filePaths': [],\n",
       "   'imagePaths': [],\n",
       "   'frontSupiCtgr': '10',\n",
       "   'frontCtgrScd': '001',\n",
       "   'frontSupiCtgrNM': '블루링크',\n",
       "   'frontCtgrScdNM': '가입/해지/변경'},\n",
       "  {'frontFaqSn': '450',\n",
       "   'frontFaqTitlSbc': '[원격제어] 블루링크 어플리케이션 인증 비밀번호 변경은 어떻게 하나요? ',\n",
       "   'frontFaqSbc': '&lt;p&gt;블루링크 센터 또는 현대자동차 홈페이지를 통해 변경이 가능합니다&lt;span lang=\"EN-US\"&gt;.&lt;/span&gt;&lt;/p&gt;&lt;p&gt;※ 블루링크 센터&lt;/p&gt;&lt;p&gt;&lt;span lang=\"EN-US\"&gt;&amp;nbsp;&amp;nbsp;&amp;nbsp;&amp;nbsp; -&amp;nbsp;&lt;/span&gt;전화&lt;span lang=\"EN-US\"&gt;&amp;nbsp;:&amp;nbsp;&lt;/span&gt;&lt;span lang=\"EN-US\"&gt;1899-0606&lt;/span&gt;&lt;/p&gt;&lt;p&gt;&lt;span lang=\"EN-US\"&gt;&amp;nbsp;&amp;nbsp;&amp;nbsp;&amp;nbsp; -&amp;nbsp;&lt;/span&gt;업무시간&lt;span lang=\"EN-US\"&gt;&amp;nbsp;:&amp;nbsp;&lt;/span&gt;평일&lt;span lang=\"EN-US\"&gt;&amp;nbsp;09:00 ~ 18:00 (&lt;/span&gt;토&lt;span lang=\"EN-US\"&gt;/&lt;/span&gt;일요일 및 공휴일 휴무&lt;span lang=\"EN-US\"&gt;)&lt;/span&gt;&lt;/p&gt;',\n",
       "   'frontDsplTrn': 0,\n",
       "   'fileList': [],\n",
       "   'filePaths': [],\n",
       "   'imagePaths': [],\n",
       "   'frontSupiCtgr': '10',\n",
       "   'frontCtgrScd': '002',\n",
       "   'frontSupiCtgrNM': '블루링크',\n",
       "   'frontCtgrScdNM': '서비스 이용'},\n",
       "  {'frontFaqSn': '448',\n",
       "   'frontFaqTitlSbc': '[원격제어] 다른 가족의 스마트폰에서도 블루링크 어플리케이션 사용이 가능한가요? ',\n",
       "   'frontFaqSbc': '&lt;p&gt;로그인 정보 입력 후 차량 계약자 핸드폰 번호로 발송된 인증번호를 입력하시면&lt;span lang=\"EN-US\"&gt;,&amp;nbsp;&lt;/span&gt;다른 스마트폰에서도 이용 가능합니다&lt;span lang=\"EN-US\"&gt;.&amp;nbsp;&lt;/span&gt;&lt;/p&gt;&lt;p&gt;다만 로그인 정보는 개인정보와 관련된 사항이니 고객님의 각별한 주의가 필요합니다&lt;span lang=\"EN-US\"&gt;.&lt;/span&gt;&lt;/p&gt;',\n",
       "   'frontDsplTrn': 0,\n",
       "   'fileList': [],\n",
       "   'filePaths': [],\n",
       "   'imagePaths': [],\n",
       "   'frontSupiCtgr': '10',\n",
       "   'frontCtgrScd': '002',\n",
       "   'frontSupiCtgrNM': '블루링크',\n",
       "   'frontCtgrScdNM': '서비스 이용'},\n",
       "  {'frontFaqSn': '451',\n",
       "   'frontFaqTitlSbc': '[안전보안] 현대 긴급 출동봉사반에서 와서 시동을 걸어주는 경우 추가 비용이 드나요? ',\n",
       "   'frontFaqSbc': '&lt;p&gt;현대 긴급출동의 경우&lt;span lang=\"EN-US\"&gt;,&amp;nbsp;&lt;/span&gt;보증수리 대상인 경우에는 출동비가 무상이나&lt;span lang=\"EN-US\"&gt;,&amp;nbsp;&lt;/span&gt;보증수리 초과 차량의 출동비는 현장에서 청구되며&lt;span lang=\"EN-US\"&gt;,&amp;nbsp;&lt;/span&gt;&lt;/p&gt;&lt;p&gt;보증수리 차량의 경우에도 출동비는 무상이나 소요된 부품 등에 대해서는 고객이 비용을 지급합니다&lt;span lang=\"EN-US\"&gt;.&lt;/span&gt;&lt;/p&gt;',\n",
       "   'frontDsplTrn': 0,\n",
       "   'fileList': [],\n",
       "   'filePaths': [],\n",
       "   'imagePaths': [],\n",
       "   'frontSupiCtgr': '10',\n",
       "   'frontCtgrScd': '002',\n",
       "   'frontSupiCtgrNM': '블루링크',\n",
       "   'frontCtgrScdNM': '서비스 이용'}],\n",
       " 'resultCode': '0000',\n",
       " 'message': '203'}"
      ]
     },
     "execution_count": 3,
     "metadata": {},
     "output_type": "execute_result"
    }
   ],
   "source": [
    "# 해당 url은 json방식이므로, json라이브러리 이용\n",
    "page = json.loads(response.text)\n",
    "page"
   ]
  },
  {
   "cell_type": "code",
   "execution_count": 4,
   "id": "8917ca85",
   "metadata": {},
   "outputs": [
    {
     "data": {
      "text/plain": [
       "['내비게이션의 지도 업그레이드는 어떻게 하나요?',\n",
       " '[가입] 블루링크에 가입하려면 어떻게 해야 하나요?',\n",
       " '에어컨 성능을 향상시키는 방법 안내',\n",
       " '[원격제어] 원격 공조 제어 서비스 이용시 시동만 켤 수는 없나요? ',\n",
       " '[가입확인서] 가입확인서는 어떻게 발급받나요?',\n",
       " '리모컨,스마트키 분실 또는 추가로 구입을 원할경우',\n",
       " '[해지] 블루링크를 해지하려면 어떻게 해야 하나요? ',\n",
       " '[원격제어] 블루링크 어플리케이션 인증 비밀번호 변경은 어떻게 하나요? ',\n",
       " '[원격제어] 다른 가족의 스마트폰에서도 블루링크 어플리케이션 사용이 가능한가요? ',\n",
       " '[안전보안] 현대 긴급 출동봉사반에서 와서 시동을 걸어주는 경우 추가 비용이 드나요? ']"
      ]
     },
     "execution_count": 4,
     "metadata": {},
     "output_type": "execute_result"
    }
   ],
   "source": [
    "# 현대자동차 FAQ의 제목을 리스트로 저장 및 출력\n",
    "title = [i[\"frontFaqTitlSbc\"] for i in page[\"data\"]]\n",
    "title"
   ]
  },
  {
   "cell_type": "code",
   "execution_count": 5,
   "id": "cdb8a42c",
   "metadata": {},
   "outputs": [
    {
     "data": {
      "text/plain": [
       "['모젠 지도 업그레이드는 차량용 A/V 및 내비게이션 A/S를 담당하고 있는&lt;br&gt;현대 웰슨에서 수행하고 있습니다.&lt;br&gt;&amp;nbsp;&lt;br&gt;전국 현대자동차 23개 직영서비스 센터와 기아자동차 11개 직영서비스 센터에서&lt;br&gt;현대 웰슨 A/S요원이 상주 근무하고 있으며&lt;br&gt;전국 115개소의 현대 웰슨 협력점에서 지도 업그레이드가 가능합니다.&lt;br&gt;&amp;nbsp;&lt;br&gt;모젠고객센터 1588-8111로 전화주시면 지도 업그레이드 상담이 가능하며&lt;br&gt;업그레이드 가능한 가까운 서비스센터에 대한 안내를 받으실 수 있습니다.',\n",
       " '&lt;p&gt;차종에 따른 가입방법은 현대자동차 홈페이지 내 블루링크 이용안내 페이지에서 확인하실 수 있습니다&lt;span lang=\"EN-US\"&gt;.&lt;/span&gt;&lt;/p&gt;&lt;p&gt;※ 현대자동차 홈폐이지 &amp;gt; 고객서비스 &amp;gt; 블루링크 &amp;gt; 이용안내 &amp;gt; 서비스 가입 &amp;nbsp; &lt;span style=\"color: #006992;\"&gt;&lt;a href=\"https://www.hyundai.com/kr/ko/customer-service/bluelink/use-guide/join\" rel=\"noopener noreferrer\" target=\"_blank\"&gt;▶바로가기&lt;/a&gt;&lt;/span&gt;&lt;/p&gt;&lt;p&gt;&amp;nbsp;&lt;/p&gt;',\n",
       " '●에어컨 작동은 1단부터 작동하기 보다는 최고단수부터 작동하는 것이 좋습니다.<br/>\\r\\n<br/>\\r\\n☞에어컨을 처음 틀때 1,2단이 아닌 3,4단부터 시작하는 게 냉각효율과 에너지 절약에 도움되며,<br/>\\r\\n공기순환 모드를 잘 활용하면 냉방효과를 더욱 높일 수 있습니다. <br/>\\r\\n차내 급속 냉방을 위해서는 내기순환 모드에서 에어컨을 가동하고, 최고단수로 5분 정도 작동한 뒤<br/>조정하는 게 효과적입니다.<br/><br/>\\r\\n\\r\\n●에어컨 콘덴서&#40;응축기&#41;를 청소합시다.<br/>\\r\\n<br/>\\r\\n☞엔진오일 교환이나 세차 때 정비사에게 에어컨 컨덴서&#40;응축기&#41; 외부에 붙어있는 벌레,이물질,먼지<br/> 등을 압축공기나 고압세차기로 청소해달라고 부탁하면 10% 정도의 냉각효을 상승 효과를 기대<br/>할 수 있습니다.<br/>\\r\\n콘덴서는 라디에이터 앞에 설치돼 차량속도와 냉각팬에 의해 기체상태의 냉매를 고압의 액체상태로<br/> 만드는 장치로, 이물질이 붙어 있으면 공기가 잘 통하지 못해 냉각효율이 떨어집니다.\\r\\n<br/><br/>\\r\\n\\r\\n●차 안의 열을 식힌 후 에어컨을 사용하세요.<br/>\\r\\n<br/>\\r\\n☞강한 여름볕에 장시간 주차했을 때 실내도는 80도 가까이 올라간다고 합니다. <br/>\\r\\n이런 차 안에서 바로 에어컨을 작동시켜도 에어컨 효과를 보기가 어렵습니다. 우선, 차문 한쪽을 열고<br/>\\r\\n반대쪽 문을 열었다 닫었다를 수 차례 반복하여 실내의 더운공기를 배출하여 열을 식힌 후 에어컨을<br/>\\r\\n켜야하며, 주차는 그늘을 찾아서 주차하는게 좋습니다.<br/>\\r\\n<br/>\\r\\n●실내 에어필터를 점검하고 교환합시다.<br/>\\r\\n<br/>\\r\\n☞요즘 차들은 대부분 실내 에어필터가 달려 나옵니다. <br/>\\r\\n하지만 자신의 차량에 에어필터가 달려 있는지 조차 모르는 운전자도 적지 않습니다. <br/>\\r\\n실내 에어필터를 제때 갈아주지 않으면 퀴퀴한 냄새뿐 아니라 바람까지 약하게 나옵니다.<br/>\\r\\n<br/>\\r\\n항균필터가 달린 차라면 국내여건상 봄에는 황사, 여름에는 에어컨 사용, 겨울에는 히터를 사용하기 전<br/>\\r\\n최소한 1년에 3번 정도는 필터 점검이 필요하며, 오염이 심할경우 교환해주고 매 15,000km 마다<br/>\\r\\n교환하도록 되어 있습니다.\\r\\n<br/>\\r\\n항균필터를 떼어낸 후 바람을 최대한으로 돌리면 공기 통로에 있는 먼지를 털어 낼 수 있습니다.^^',\n",
       " '&lt;p&gt;원격시동&lt;span lang=\"EN-US\"&gt;/&lt;/span&gt;공조 기능은 공조를 미리 제어 하기 위해 시동이 함께 필요한 서비스이므로 분리해서 사용이 불가능합니다&lt;span lang=\"EN-US\"&gt;.&lt;/span&gt;&lt;/p&gt;',\n",
       " '&lt;p&gt;가입확인서는&amp;nbsp;홈페이지와 블루링크 어플리케이션을 통해 발급받으실 수 있습니다.&lt;/p&gt;&lt;p&gt;▶ 홈페이지&lt;/p&gt;&lt;p&gt;&amp;nbsp; &amp;nbsp; &amp;nbsp;1) 현대자동차 홈페이지(&lt;a href=\"http://www.hyundai.com\"&gt;www.hyundai.com&lt;/a&gt;) 로그인&lt;/p&gt;&lt;p&gt;&amp;nbsp; &amp;nbsp; &amp;nbsp;2) 우측 상단 &amp;#39;마이페이지&amp;#39; 클릭&lt;/p&gt;&lt;p&gt;&amp;nbsp; &amp;nbsp; &amp;nbsp;3) 최하단 &amp;#39;블루링크 가입확인서 발급&amp;#39; 클릭&lt;/p&gt;&lt;p&gt;▶&amp;nbsp;블루링크 어플리케이션&lt;/p&gt;&lt;p&gt;&amp;nbsp; &amp;nbsp; 1) 어플리케이션 로그인&lt;/p&gt;&lt;p&gt;&amp;nbsp; &amp;nbsp; 2) 메인화면 좌측 상단의 &amp;#39;메뉴(三)&amp;#39; 버튼 클릭&lt;/p&gt;&lt;p&gt;&amp;nbsp; &amp;nbsp; 3) &amp;#39;월간 리포트&amp;#39; 클릭&lt;/p&gt;&lt;p&gt;&amp;nbsp; &amp;nbsp; 4) &amp;#39;블루링크 가입확인서 발급&amp;#39; 항목의 &amp;#39;가입확인서 발급&amp;#39; 클릭&lt;/p&gt;&lt;p&gt;&lt;br&gt;&lt;/p&gt;',\n",
       " '&lt;p&gt;리모컨 분실로 추가 구입을 원하실 경우, 당사 서비스망에 차를 가지고 내방을 하시거나,&lt;/p&gt;&lt;p&gt;모비스 부품대리점을 통해 리모컨을 선구입후 (현대 모비스(1588-7278)로 문의) 차량과 함께&lt;/p&gt;&lt;p&gt;현대자동차 서비스망 내방 하셔서 주파수 셋팅 후에 사용 하시면 됩니다.&lt;/p&gt;&lt;p data-empty=\"true\"&gt;&lt;br&gt;&lt;/p&gt;&lt;p&gt;※ 당사 서비스망은 현대자동차홈페이지 &amp;nbsp;&amp;gt; 고객서비스 &amp;gt; 서비스네트워크 &amp;gt; 서비스네트워크 검색/예약 &amp;nbsp;참조 &amp;nbsp;&lt;span style=\"color: #006992;\"&gt;&lt;a href=\"https://www.hyundai.com/kr/ko/customer-service/service-network/service-reservation-search\" rel=\"noopener noreferrer\" target=\"_blank\"&gt;▶바로가기&lt;/a&gt;&lt;/span&gt;&lt;/p&gt;',\n",
       " '&lt;p&gt;블루링크 센터를 통해 서비스를 해지하실 수 있습니다&lt;span lang=\"EN-US\"&gt;.&lt;/span&gt;&lt;/p&gt;&lt;p&gt;① 블루링크 센터 전화 연결&lt;/p&gt;&lt;p&gt;② 해지 신청서 작성 및 구비서류 준비&lt;/p&gt;&lt;p&gt;&lt;span lang=\"EN-US\"&gt;&amp;nbsp; &amp;nbsp; &amp;nbsp;-&amp;nbsp;&lt;/span&gt;해지신청서는 홈페이지의 블루링크 자료실에서 다운로드하실 수 있습니다&lt;span lang=\"EN-US\"&gt;.&lt;/span&gt;&lt;/p&gt;&lt;p&gt;&lt;span lang=\"EN-US\"&gt;&amp;nbsp; &amp;nbsp; &amp;nbsp;-&amp;nbsp;&lt;/span&gt;구비서류&lt;/p&gt;&lt;p&gt;&amp;nbsp; &amp;nbsp; &amp;nbsp; &amp;nbsp; &amp;gt; 개인 : 신분증 사본&lt;br&gt;&amp;nbsp; &amp;nbsp; &amp;nbsp; &amp;nbsp; &amp;gt; 개인사업자 &lt;span lang=\"EN-US\"&gt;:&amp;nbsp;&lt;/span&gt;본인&lt;span lang=\"EN-US\"&gt;(&lt;/span&gt;대표자&lt;span lang=\"EN-US\"&gt;)&amp;nbsp;&lt;/span&gt;신분증 사본&lt;span lang=\"EN-US\"&gt;,&amp;nbsp;&lt;/span&gt;사업자등록증 사본&lt;span lang=\"EN-US\"&gt;,&amp;nbsp;&lt;/span&gt;인감증명서&lt;span lang=\"EN-US\"&gt;,&amp;nbsp;&lt;/span&gt;직원의 신분증 또는 재직증명서&lt;br&gt;&amp;nbsp; &amp;nbsp; &amp;nbsp; &amp;nbsp; &amp;gt; 법인 : 사업자 등록증 사본, 인감증명서, 직원의 신분증 혹은 재직증명서&lt;br&gt;&amp;nbsp; &amp;nbsp; &amp;nbsp; &amp;nbsp; &amp;gt; 대리인이 해지 신청을 하시는 경우&amp;nbsp;&lt;/p&gt;&lt;p&gt;&amp;nbsp; &amp;nbsp; &amp;nbsp; &amp;nbsp; &amp;nbsp; &amp;nbsp; ☞ 전화로 고객 본인 의사 확인 가능시&lt;span lang=\"EN-US\"&gt;&amp;nbsp;:&amp;nbsp;&lt;/span&gt;가입자 신분증 및 대리인 신분증 사본&lt;/p&gt;&lt;p&gt;&amp;nbsp; &amp;nbsp; &amp;nbsp; &amp;nbsp; &amp;nbsp; &amp;nbsp; ☞ 전화로 고객 본인 의사 확인이 불가능시&lt;span lang=\"EN-US\"&gt;&amp;nbsp;:&amp;nbsp;&lt;/span&gt;대리인의 신분증 및 위임장&lt;span lang=\"EN-US\"&gt;(&lt;/span&gt;인감 날인&lt;span lang=\"EN-US\"&gt;)&lt;/span&gt;&lt;/p&gt;&lt;p&gt;③ 팩스나 이메일을 이용해 블루링크 센터에 해지 신청서와 구비서류 제출&lt;/p&gt;&lt;p&gt;- FAX : 031-8086-1894&lt;/p&gt;&lt;p&gt;&lt;span lang=\"EN-US\"&gt;-&amp;nbsp;&lt;/span&gt;이메일&lt;span lang=\"EN-US\"&gt;&amp;nbsp;:&amp;nbsp;&lt;/span&gt;&lt;span lang=\"EN-US\"&gt;&lt;a href=\"mailto:tmsmaster@hyundai.com\"&gt;tmsmaster@hyundai.com&lt;/a&gt;&lt;/span&gt;&lt;/p&gt;&lt;p&gt;&lt;br&gt;&lt;/p&gt;&lt;p&gt;※ 블루링크 센터&lt;/p&gt;&lt;p&gt;&lt;span lang=\"EN-US\"&gt;-&amp;nbsp;&lt;/span&gt;전화&lt;span lang=\"EN-US\"&gt;&amp;nbsp;:&amp;nbsp;&lt;/span&gt;&lt;span lang=\"EN-US\"&gt;1899-0606&lt;/span&gt;&lt;/p&gt;&lt;p&gt;&lt;span lang=\"EN-US\"&gt;-&amp;nbsp;&lt;/span&gt;업무시간&lt;span lang=\"EN-US\"&gt;&amp;nbsp;:&amp;nbsp;&lt;/span&gt;평일 &lt;span lang=\"EN-US\"&gt;09:00 ~ 18:00 (&lt;/span&gt;토&lt;span lang=\"EN-US\"&gt;/&lt;/span&gt;일요일 및 공휴일 휴무&lt;span lang=\"EN-US\"&gt;)&lt;/span&gt;&lt;/p&gt;',\n",
       " '&lt;p&gt;블루링크 센터 또는 현대자동차 홈페이지를 통해 변경이 가능합니다&lt;span lang=\"EN-US\"&gt;.&lt;/span&gt;&lt;/p&gt;&lt;p&gt;※ 블루링크 센터&lt;/p&gt;&lt;p&gt;&lt;span lang=\"EN-US\"&gt;&amp;nbsp;&amp;nbsp;&amp;nbsp;&amp;nbsp; -&amp;nbsp;&lt;/span&gt;전화&lt;span lang=\"EN-US\"&gt;&amp;nbsp;:&amp;nbsp;&lt;/span&gt;&lt;span lang=\"EN-US\"&gt;1899-0606&lt;/span&gt;&lt;/p&gt;&lt;p&gt;&lt;span lang=\"EN-US\"&gt;&amp;nbsp;&amp;nbsp;&amp;nbsp;&amp;nbsp; -&amp;nbsp;&lt;/span&gt;업무시간&lt;span lang=\"EN-US\"&gt;&amp;nbsp;:&amp;nbsp;&lt;/span&gt;평일&lt;span lang=\"EN-US\"&gt;&amp;nbsp;09:00 ~ 18:00 (&lt;/span&gt;토&lt;span lang=\"EN-US\"&gt;/&lt;/span&gt;일요일 및 공휴일 휴무&lt;span lang=\"EN-US\"&gt;)&lt;/span&gt;&lt;/p&gt;',\n",
       " '&lt;p&gt;로그인 정보 입력 후 차량 계약자 핸드폰 번호로 발송된 인증번호를 입력하시면&lt;span lang=\"EN-US\"&gt;,&amp;nbsp;&lt;/span&gt;다른 스마트폰에서도 이용 가능합니다&lt;span lang=\"EN-US\"&gt;.&amp;nbsp;&lt;/span&gt;&lt;/p&gt;&lt;p&gt;다만 로그인 정보는 개인정보와 관련된 사항이니 고객님의 각별한 주의가 필요합니다&lt;span lang=\"EN-US\"&gt;.&lt;/span&gt;&lt;/p&gt;',\n",
       " '&lt;p&gt;현대 긴급출동의 경우&lt;span lang=\"EN-US\"&gt;,&amp;nbsp;&lt;/span&gt;보증수리 대상인 경우에는 출동비가 무상이나&lt;span lang=\"EN-US\"&gt;,&amp;nbsp;&lt;/span&gt;보증수리 초과 차량의 출동비는 현장에서 청구되며&lt;span lang=\"EN-US\"&gt;,&amp;nbsp;&lt;/span&gt;&lt;/p&gt;&lt;p&gt;보증수리 차량의 경우에도 출동비는 무상이나 소요된 부품 등에 대해서는 고객이 비용을 지급합니다&lt;span lang=\"EN-US\"&gt;.&lt;/span&gt;&lt;/p&gt;']"
      ]
     },
     "execution_count": 5,
     "metadata": {},
     "output_type": "execute_result"
    }
   ],
   "source": [
    "# 현대자동차 FAQ의 내용을 리스트로 저장 및 출력\n",
    "content = [i[\"frontFaqSbc\"] for i in page[\"data\"]]\n",
    "content"
   ]
  },
  {
   "cell_type": "code",
   "execution_count": 6,
   "id": "7997bc35",
   "metadata": {},
   "outputs": [],
   "source": [
    "# 위와 같이 그대로 출력하면 이상한 기호와 문자가 포함되어 있음 -> 처리 필요\n",
    "\n",
    "def clean_html_text(html_text):\n",
    "    # HTML entity 디코딩\n",
    "    text = html.unescape(html_text)\n",
    "\n",
    "    # <br> 태그를 띄어쓰기로 변환\n",
    "    text = re.sub(r'<br\\s*/?>', ' ', text, flags=re.IGNORECASE)\n",
    "\n",
    "    # </p> 또는 <p> 를 띄어쓰기으로 변환\n",
    "    text = re.sub(r'</?p[^>]*>', ' ', text, flags=re.IGNORECASE)\n",
    "\n",
    "    # <span ...> ... </span> 제거\n",
    "    text = re.sub(r'<span[^>]*>', '', text, flags=re.IGNORECASE)\n",
    "    text = re.sub(r'</span>', '', text, flags=re.IGNORECASE)\n",
    "\n",
    "    # <a href=...>text</a> → text 로 변환\n",
    "    text = re.sub(r'<a[^>]*href=\"mailto:[^\"]*\">([^<]*)</a>', r'\\1', text, flags=re.IGNORECASE)\n",
    "\n",
    "    # 기타 HTML 태그 제거\n",
    "    text = re.sub(r'<[^>]+>', '', text)\n",
    "\n",
    "    # 다중 공백/줄바꿈 정리\n",
    "    text = re.sub(r'\\n+', ' ', text)               # 줄바꿈 여러 개 → 하나\n",
    "    text = re.sub(r'[ \\t]+', ' ', text)             # 탭/스페이스 → 하나\n",
    "    text = re.sub(r' *\\n *', ' ', text)            # 줄바꿈 앞뒤 공백 제거\n",
    "    text = text.strip()\n",
    "\n",
    "    text = re.sub(r'\\r\\n|\\n\\r|\\r', ' ', text)\n",
    "\n",
    "    # 중복된 공백/줄바꿈 줄이기\n",
    "    text = re.sub(r'\\n{2,}', ' ', text)  # 줄바꿈 2번 이상 → 1번\n",
    "    text = re.sub(r'[ \\t]+', ' ', text)   # 연속 공백/탭 → 하나로\n",
    "\n",
    "    # &nbsp;는 이미 html.unescape로 공백 처리되었지만, 혹시 남아있으면 제거\n",
    "    text = re.sub(r'\\xa0', ' ', text)\n",
    "\n",
    "    # &#39; → ' 같은 문자도 처리됨\n",
    "    text = re.sub(r\" +\\n\", ' ', text)  # 줄 끝 공백 제거\n",
    "    text = re.sub(r\"\\n +\", ' ', text)  # 줄 시작 공백 제거\n",
    "\n",
    "    # 불필요한 공백 줄이기 (예: ' ▶바로가기' 전후)\n",
    "    text = re.sub(r' *▶ *', ' ▶ ', text)\n",
    "\n",
    "    # 기타 불필요한 content\n",
    "    text = re.sub(r'([&][a-z0~9]+;)', ' ', text)\n",
    "    text = re.sub(r'([&][#][0-9]+;)', ' ', text)\n",
    "    \n",
    "    return text\n"
   ]
  },
  {
   "cell_type": "code",
   "execution_count": 7,
   "id": "a0b5852a",
   "metadata": {},
   "outputs": [
    {
     "data": {
      "text/plain": [
       "['내비게이션의 지도 업그레이드는 어떻게 하나요?',\n",
       " '[가입] 블루링크에 가입하려면 어떻게 해야 하나요?',\n",
       " '에어컨 성능을 향상시키는 방법 안내',\n",
       " '[원격제어] 원격 공조 제어 서비스 이용시 시동만 켤 수는 없나요?',\n",
       " '[가입확인서] 가입확인서는 어떻게 발급받나요?',\n",
       " '리모컨,스마트키 분실 또는 추가로 구입을 원할경우',\n",
       " '[해지] 블루링크를 해지하려면 어떻게 해야 하나요?',\n",
       " '[원격제어] 블루링크 어플리케이션 인증 비밀번호 변경은 어떻게 하나요?',\n",
       " '[원격제어] 다른 가족의 스마트폰에서도 블루링크 어플리케이션 사용이 가능한가요?',\n",
       " '[안전보안] 현대 긴급 출동봉사반에서 와서 시동을 걸어주는 경우 추가 비용이 드나요?']"
      ]
     },
     "execution_count": 7,
     "metadata": {},
     "output_type": "execute_result"
    }
   ],
   "source": [
    "title = [clean_html_text(i[\"frontFaqTitlSbc\"]) for i in page[\"data\"]]\n",
    "title"
   ]
  },
  {
   "cell_type": "code",
   "execution_count": 8,
   "id": "1a64cade",
   "metadata": {},
   "outputs": [
    {
     "data": {
      "text/plain": [
       "['모젠 지도 업그레이드는 차량용 A/V 및 내비게이션 A/S를 담당하고 있는 현대 웰슨에서 수행하고 있습니다.   전국 현대자동차 23개 직영서비스 센터와 기아자동차 11개 직영서비스 센터에서 현대 웰슨 A/S요원이 상주 근무하고 있으며 전국 115개소의 현대 웰슨 협력점에서 지도 업그레이드가 가능합니다.   모젠고객센터 1588-8111로 전화주시면 지도 업그레이드 상담이 가능하며 업그레이드 가능한 가까운 서비스센터에 대한 안내를 받으실 수 있습니다.',\n",
       " '차종에 따른 가입방법은 현대자동차 홈페이지 내 블루링크 이용안내 페이지에서 확인하실 수 있습니다. ※ 현대자동차 홈폐이지   고객서비스   블루링크   이용안내   서비스 가입   ▶ 바로가기  ',\n",
       " '●에어컨 작동은 1단부터 작동하기 보다는 최고단수부터 작동하는 것이 좋습니다. ☞에어컨을 처음 틀때 1,2단이 아닌 3,4단부터 시작하는 게 냉각효율과 에너지 절약에 도움되며, 공기순환 모드를 잘 활용하면 냉방효과를 더욱 높일 수 있습니다. 차내 급속 냉방을 위해서는 내기순환 모드에서 에어컨을 가동하고, 최고단수로 5분 정도 작동한 뒤 조정하는 게 효과적입니다. ●에어컨 콘덴서(응축기)를 청소합시다. ☞엔진오일 교환이나 세차 때 정비사에게 에어컨 컨덴서(응축기) 외부에 붙어있는 벌레,이물질,먼지 등을 압축공기나 고압세차기로 청소해달라고 부탁하면 10% 정도의 냉각효을 상승 효과를 기대 할 수 있습니다. 콘덴서는 라디에이터 앞에 설치돼 차량속도와 냉각팬에 의해 기체상태의 냉매를 고압의 액체상태로 만드는 장치로, 이물질이 붙어 있으면 공기가 잘 통하지 못해 냉각효율이 떨어집니다. ●차 안의 열을 식힌 후 에어컨을 사용하세요. ☞강한 여름볕에 장시간 주차했을 때 실내도는 80도 가까이 올라간다고 합니다. 이런 차 안에서 바로 에어컨을 작동시켜도 에어컨 효과를 보기가 어렵습니다. 우선, 차문 한쪽을 열고 반대쪽 문을 열었다 닫었다를 수 차례 반복하여 실내의 더운공기를 배출하여 열을 식힌 후 에어컨을 켜야하며, 주차는 그늘을 찾아서 주차하는게 좋습니다. ●실내 에어필터를 점검하고 교환합시다. ☞요즘 차들은 대부분 실내 에어필터가 달려 나옵니다. 하지만 자신의 차량에 에어필터가 달려 있는지 조차 모르는 운전자도 적지 않습니다. 실내 에어필터를 제때 갈아주지 않으면 퀴퀴한 냄새뿐 아니라 바람까지 약하게 나옵니다. 항균필터가 달린 차라면 국내여건상 봄에는 황사, 여름에는 에어컨 사용, 겨울에는 히터를 사용하기 전 최소한 1년에 3번 정도는 필터 점검이 필요하며, 오염이 심할경우 교환해주고 매 15,000km 마다 교환하도록 되어 있습니다. 항균필터를 떼어낸 후 바람을 최대한으로 돌리면 공기 통로에 있는 먼지를 털어 낼 수 있습니다.^^',\n",
       " '원격시동/공조 기능은 공조를 미리 제어 하기 위해 시동이 함께 필요한 서비스이므로 분리해서 사용이 불가능합니다.',\n",
       " '가입확인서는 홈페이지와 블루링크 어플리케이션을 통해 발급받으실 수 있습니다. ▶ 홈페이지      1) 현대자동차 홈페이지(www.hyundai.com) 로그인      2) 우측 상단  마이페이지  클릭      3) 최하단  블루링크 가입확인서 발급  클릭 ▶  블루링크 어플리케이션     1) 어플리케이션 로그인     2) 메인화면 좌측 상단의  메뉴(三)  버튼 클릭     3)  월간 리포트  클릭     4)  블루링크 가입확인서 발급  항목의  가입확인서 발급  클릭',\n",
       " '리모컨 분실로 추가 구입을 원하실 경우, 당사 서비스망에 차를 가지고 내방을 하시거나, 모비스 부품대리점을 통해 리모컨을 선구입후 (현대 모비스(1588-7278)로 문의) 차량과 함께 현대자동차 서비스망 내방 하셔서 주파수 셋팅 후에 사용 하시면 됩니다. ※ 당사 서비스망은 현대자동차홈페이지    고객서비스   서비스네트워크   서비스네트워크 검색/예약  참조   ▶ 바로가기',\n",
       " '블루링크 센터를 통해 서비스를 해지하실 수 있습니다. ① 블루링크 센터 전화 연결 ② 해지 신청서 작성 및 구비서류 준비      - 해지신청서는 홈페이지의 블루링크 자료실에서 다운로드하실 수 있습니다.      - 구비서류           개인 : 신분증 사본           개인사업자 : 본인(대표자) 신분증 사본, 사업자등록증 사본, 인감증명서, 직원의 신분증 또는 재직증명서           법인 : 사업자 등록증 사본, 인감증명서, 직원의 신분증 혹은 재직증명서           대리인이 해지 신청을 하시는 경우              ☞ 전화로 고객 본인 의사 확인 가능시 : 가입자 신분증 및 대리인 신분증 사본             ☞ 전화로 고객 본인 의사 확인이 불가능시 : 대리인의 신분증 및 위임장(인감 날인) ③ 팩스나 이메일을 이용해 블루링크 센터에 해지 신청서와 구비서류 제출 - FAX : 031-8086-1894 - 이메일 : tmsmaster@hyundai.com ※ 블루링크 센터 - 전화 : 1899-0606 - 업무시간 : 평일 09:00 ~ 18:00 (토/일요일 및 공휴일 휴무)',\n",
       " '블루링크 센터 또는 현대자동차 홈페이지를 통해 변경이 가능합니다. ※ 블루링크 센터      - 전화 : 1899-0606      - 업무시간 : 평일 09:00 ~ 18:00 (토/일요일 및 공휴일 휴무)',\n",
       " '로그인 정보 입력 후 차량 계약자 핸드폰 번호로 발송된 인증번호를 입력하시면, 다른 스마트폰에서도 이용 가능합니다.  다만 로그인 정보는 개인정보와 관련된 사항이니 고객님의 각별한 주의가 필요합니다.',\n",
       " '현대 긴급출동의 경우, 보증수리 대상인 경우에는 출동비가 무상이나, 보증수리 초과 차량의 출동비는 현장에서 청구되며,  보증수리 차량의 경우에도 출동비는 무상이나 소요된 부품 등에 대해서는 고객이 비용을 지급합니다.']"
      ]
     },
     "execution_count": 8,
     "metadata": {},
     "output_type": "execute_result"
    }
   ],
   "source": [
    "content = [clean_html_text(i[\"frontFaqSbc\"]) for i in page[\"data\"]]\n",
    "content"
   ]
  },
  {
   "cell_type": "code",
   "execution_count": 9,
   "id": "d565595f",
   "metadata": {},
   "outputs": [
    {
     "name": "stdout",
     "output_type": "stream",
     "text": [
      "[['제목', '내용'], ['내비게이션의 지도 업그레이드는 어떻게 하나요?', '모젠 지도 업그레이드는 차량용 A/V 및 내비게이션 A/S를 담당하고 있는 현대 웰슨에서 수행하고 있습니다.   전국 현대자동차 23개 직영서비스 센터와 기아자동차 11개 직영서비스 센터에서 현대 웰슨 A/S요원이 상주 근무하고 있으며 전국 115개소의 현대 웰슨 협력점에서 지도 업그레이드가 가능합니다.   모젠고객센터 1588-8111로 전화주시면 지도 업그레이드 상담이 가능하며 업그레이드 가능한 가까운 서비스센터에 대한 안내를 받으실 수 있습니다.'], ['[가입] 블루링크에 가입하려면 어떻게 해야 하나요?', '차종에 따른 가입방법은 현대자동차 홈페이지 내 블루링크 이용안내 페이지에서 확인하실 수 있습니다. ※ 현대자동차 홈폐이지   고객서비스   블루링크   이용안내   서비스 가입   ▶ 바로가기  '], ['에어컨 성능을 향상시키는 방법 안내', '●에어컨 작동은 1단부터 작동하기 보다는 최고단수부터 작동하는 것이 좋습니다. ☞에어컨을 처음 틀때 1,2단이 아닌 3,4단부터 시작하는 게 냉각효율과 에너지 절약에 도움되며, 공기순환 모드를 잘 활용하면 냉방효과를 더욱 높일 수 있습니다. 차내 급속 냉방을 위해서는 내기순환 모드에서 에어컨을 가동하고, 최고단수로 5분 정도 작동한 뒤 조정하는 게 효과적입니다. ●에어컨 콘덴서(응축기)를 청소합시다. ☞엔진오일 교환이나 세차 때 정비사에게 에어컨 컨덴서(응축기) 외부에 붙어있는 벌레,이물질,먼지 등을 압축공기나 고압세차기로 청소해달라고 부탁하면 10% 정도의 냉각효을 상승 효과를 기대 할 수 있습니다. 콘덴서는 라디에이터 앞에 설치돼 차량속도와 냉각팬에 의해 기체상태의 냉매를 고압의 액체상태로 만드는 장치로, 이물질이 붙어 있으면 공기가 잘 통하지 못해 냉각효율이 떨어집니다. ●차 안의 열을 식힌 후 에어컨을 사용하세요. ☞강한 여름볕에 장시간 주차했을 때 실내도는 80도 가까이 올라간다고 합니다. 이런 차 안에서 바로 에어컨을 작동시켜도 에어컨 효과를 보기가 어렵습니다. 우선, 차문 한쪽을 열고 반대쪽 문을 열었다 닫었다를 수 차례 반복하여 실내의 더운공기를 배출하여 열을 식힌 후 에어컨을 켜야하며, 주차는 그늘을 찾아서 주차하는게 좋습니다. ●실내 에어필터를 점검하고 교환합시다. ☞요즘 차들은 대부분 실내 에어필터가 달려 나옵니다. 하지만 자신의 차량에 에어필터가 달려 있는지 조차 모르는 운전자도 적지 않습니다. 실내 에어필터를 제때 갈아주지 않으면 퀴퀴한 냄새뿐 아니라 바람까지 약하게 나옵니다. 항균필터가 달린 차라면 국내여건상 봄에는 황사, 여름에는 에어컨 사용, 겨울에는 히터를 사용하기 전 최소한 1년에 3번 정도는 필터 점검이 필요하며, 오염이 심할경우 교환해주고 매 15,000km 마다 교환하도록 되어 있습니다. 항균필터를 떼어낸 후 바람을 최대한으로 돌리면 공기 통로에 있는 먼지를 털어 낼 수 있습니다.^^'], ['[원격제어] 원격 공조 제어 서비스 이용시 시동만 켤 수는 없나요?', '원격시동/공조 기능은 공조를 미리 제어 하기 위해 시동이 함께 필요한 서비스이므로 분리해서 사용이 불가능합니다.'], ['[가입확인서] 가입확인서는 어떻게 발급받나요?', '가입확인서는 홈페이지와 블루링크 어플리케이션을 통해 발급받으실 수 있습니다. ▶ 홈페이지      1) 현대자동차 홈페이지(www.hyundai.com) 로그인      2) 우측 상단  마이페이지  클릭      3) 최하단  블루링크 가입확인서 발급  클릭 ▶  블루링크 어플리케이션     1) 어플리케이션 로그인     2) 메인화면 좌측 상단의  메뉴(三)  버튼 클릭     3)  월간 리포트  클릭     4)  블루링크 가입확인서 발급  항목의  가입확인서 발급  클릭'], ['리모컨,스마트키 분실 또는 추가로 구입을 원할경우', '리모컨 분실로 추가 구입을 원하실 경우, 당사 서비스망에 차를 가지고 내방을 하시거나, 모비스 부품대리점을 통해 리모컨을 선구입후 (현대 모비스(1588-7278)로 문의) 차량과 함께 현대자동차 서비스망 내방 하셔서 주파수 셋팅 후에 사용 하시면 됩니다. ※ 당사 서비스망은 현대자동차홈페이지    고객서비스   서비스네트워크   서비스네트워크 검색/예약  참조   ▶ 바로가기'], ['[해지] 블루링크를 해지하려면 어떻게 해야 하나요?', '블루링크 센터를 통해 서비스를 해지하실 수 있습니다. ① 블루링크 센터 전화 연결 ② 해지 신청서 작성 및 구비서류 준비      - 해지신청서는 홈페이지의 블루링크 자료실에서 다운로드하실 수 있습니다.      - 구비서류           개인 : 신분증 사본           개인사업자 : 본인(대표자) 신분증 사본, 사업자등록증 사본, 인감증명서, 직원의 신분증 또는 재직증명서           법인 : 사업자 등록증 사본, 인감증명서, 직원의 신분증 혹은 재직증명서           대리인이 해지 신청을 하시는 경우              ☞ 전화로 고객 본인 의사 확인 가능시 : 가입자 신분증 및 대리인 신분증 사본             ☞ 전화로 고객 본인 의사 확인이 불가능시 : 대리인의 신분증 및 위임장(인감 날인) ③ 팩스나 이메일을 이용해 블루링크 센터에 해지 신청서와 구비서류 제출 - FAX : 031-8086-1894 - 이메일 : tmsmaster@hyundai.com ※ 블루링크 센터 - 전화 : 1899-0606 - 업무시간 : 평일 09:00 ~ 18:00 (토/일요일 및 공휴일 휴무)'], ['[원격제어] 블루링크 어플리케이션 인증 비밀번호 변경은 어떻게 하나요?', '블루링크 센터 또는 현대자동차 홈페이지를 통해 변경이 가능합니다. ※ 블루링크 센터      - 전화 : 1899-0606      - 업무시간 : 평일 09:00 ~ 18:00 (토/일요일 및 공휴일 휴무)'], ['[원격제어] 다른 가족의 스마트폰에서도 블루링크 어플리케이션 사용이 가능한가요?', '로그인 정보 입력 후 차량 계약자 핸드폰 번호로 발송된 인증번호를 입력하시면, 다른 스마트폰에서도 이용 가능합니다.  다만 로그인 정보는 개인정보와 관련된 사항이니 고객님의 각별한 주의가 필요합니다.'], ['[안전보안] 현대 긴급 출동봉사반에서 와서 시동을 걸어주는 경우 추가 비용이 드나요?', '현대 긴급출동의 경우, 보증수리 대상인 경우에는 출동비가 무상이나, 보증수리 초과 차량의 출동비는 현장에서 청구되며,  보증수리 차량의 경우에도 출동비는 무상이나 소요된 부품 등에 대해서는 고객이 비용을 지급합니다.']]\n"
     ]
    }
   ],
   "source": [
    "# 1페이지 수집 완료 후 csv작성\n",
    "data = [[\"제목\", \"내용\"]]\n",
    "for i, j in zip(title, content):\n",
    "    # print(\"{} => {}\".format(i, j))\n",
    "    data.append([i, j])\n",
    "    \n",
    "print(data)\n",
    "with open('현대자동차.csv', 'w', newline='', encoding=\"utf-8\") as f:\n",
    "    writer = csv.writer(f)\n",
    "    writer.writerows(data)\n",
    "    f.close()\n"
   ]
  },
  {
   "cell_type": "code",
   "execution_count": 10,
   "id": "7e90b1ba",
   "metadata": {},
   "outputs": [
    {
     "data": {
      "text/html": [
       "<div>\n",
       "<style scoped>\n",
       "    .dataframe tbody tr th:only-of-type {\n",
       "        vertical-align: middle;\n",
       "    }\n",
       "\n",
       "    .dataframe tbody tr th {\n",
       "        vertical-align: top;\n",
       "    }\n",
       "\n",
       "    .dataframe thead th {\n",
       "        text-align: right;\n",
       "    }\n",
       "</style>\n",
       "<table border=\"1\" class=\"dataframe\">\n",
       "  <thead>\n",
       "    <tr style=\"text-align: right;\">\n",
       "      <th></th>\n",
       "      <th>제목</th>\n",
       "      <th>내용</th>\n",
       "    </tr>\n",
       "  </thead>\n",
       "  <tbody>\n",
       "    <tr>\n",
       "      <th>0</th>\n",
       "      <td>내비게이션의 지도 업그레이드는 어떻게 하나요?</td>\n",
       "      <td>모젠 지도 업그레이드는 차량용 A/V 및 내비게이션 A/S를 담당하고 있는 현대 웰...</td>\n",
       "    </tr>\n",
       "    <tr>\n",
       "      <th>1</th>\n",
       "      <td>[가입] 블루링크에 가입하려면 어떻게 해야 하나요?</td>\n",
       "      <td>차종에 따른 가입방법은 현대자동차 홈페이지 내 블루링크 이용안내 페이지에서 확인하실...</td>\n",
       "    </tr>\n",
       "    <tr>\n",
       "      <th>2</th>\n",
       "      <td>에어컨 성능을 향상시키는 방법 안내</td>\n",
       "      <td>●에어컨 작동은 1단부터 작동하기 보다는 최고단수부터 작동하는 것이 좋습니다. ☞에...</td>\n",
       "    </tr>\n",
       "    <tr>\n",
       "      <th>3</th>\n",
       "      <td>[원격제어] 원격 공조 제어 서비스 이용시 시동만 켤 수는 없나요?</td>\n",
       "      <td>원격시동/공조 기능은 공조를 미리 제어 하기 위해 시동이 함께 필요한 서비스이므로 ...</td>\n",
       "    </tr>\n",
       "    <tr>\n",
       "      <th>4</th>\n",
       "      <td>[가입확인서] 가입확인서는 어떻게 발급받나요?</td>\n",
       "      <td>가입확인서는 홈페이지와 블루링크 어플리케이션을 통해 발급받으실 수 있습니다. ▶ 홈...</td>\n",
       "    </tr>\n",
       "    <tr>\n",
       "      <th>5</th>\n",
       "      <td>리모컨,스마트키 분실 또는 추가로 구입을 원할경우</td>\n",
       "      <td>리모컨 분실로 추가 구입을 원하실 경우, 당사 서비스망에 차를 가지고 내방을 하시거...</td>\n",
       "    </tr>\n",
       "    <tr>\n",
       "      <th>6</th>\n",
       "      <td>[해지] 블루링크를 해지하려면 어떻게 해야 하나요?</td>\n",
       "      <td>블루링크 센터를 통해 서비스를 해지하실 수 있습니다. ① 블루링크 센터 전화 연결 ...</td>\n",
       "    </tr>\n",
       "    <tr>\n",
       "      <th>7</th>\n",
       "      <td>[원격제어] 블루링크 어플리케이션 인증 비밀번호 변경은 어떻게 하나요?</td>\n",
       "      <td>블루링크 센터 또는 현대자동차 홈페이지를 통해 변경이 가능합니다. ※ 블루링크 센터...</td>\n",
       "    </tr>\n",
       "    <tr>\n",
       "      <th>8</th>\n",
       "      <td>[원격제어] 다른 가족의 스마트폰에서도 블루링크 어플리케이션 사용이 가능한가요?</td>\n",
       "      <td>로그인 정보 입력 후 차량 계약자 핸드폰 번호로 발송된 인증번호를 입력하시면, 다른...</td>\n",
       "    </tr>\n",
       "    <tr>\n",
       "      <th>9</th>\n",
       "      <td>[안전보안] 현대 긴급 출동봉사반에서 와서 시동을 걸어주는 경우 추가 비용이 드나요?</td>\n",
       "      <td>현대 긴급출동의 경우, 보증수리 대상인 경우에는 출동비가 무상이나, 보증수리 초과 ...</td>\n",
       "    </tr>\n",
       "  </tbody>\n",
       "</table>\n",
       "</div>"
      ],
      "text/plain": [
       "                                                제목  \\\n",
       "0                        내비게이션의 지도 업그레이드는 어떻게 하나요?   \n",
       "1                     [가입] 블루링크에 가입하려면 어떻게 해야 하나요?   \n",
       "2                              에어컨 성능을 향상시키는 방법 안내   \n",
       "3            [원격제어] 원격 공조 제어 서비스 이용시 시동만 켤 수는 없나요?   \n",
       "4                        [가입확인서] 가입확인서는 어떻게 발급받나요?   \n",
       "5                      리모컨,스마트키 분실 또는 추가로 구입을 원할경우   \n",
       "6                     [해지] 블루링크를 해지하려면 어떻게 해야 하나요?   \n",
       "7          [원격제어] 블루링크 어플리케이션 인증 비밀번호 변경은 어떻게 하나요?   \n",
       "8     [원격제어] 다른 가족의 스마트폰에서도 블루링크 어플리케이션 사용이 가능한가요?   \n",
       "9  [안전보안] 현대 긴급 출동봉사반에서 와서 시동을 걸어주는 경우 추가 비용이 드나요?   \n",
       "\n",
       "                                                  내용  \n",
       "0  모젠 지도 업그레이드는 차량용 A/V 및 내비게이션 A/S를 담당하고 있는 현대 웰...  \n",
       "1  차종에 따른 가입방법은 현대자동차 홈페이지 내 블루링크 이용안내 페이지에서 확인하실...  \n",
       "2  ●에어컨 작동은 1단부터 작동하기 보다는 최고단수부터 작동하는 것이 좋습니다. ☞에...  \n",
       "3  원격시동/공조 기능은 공조를 미리 제어 하기 위해 시동이 함께 필요한 서비스이므로 ...  \n",
       "4  가입확인서는 홈페이지와 블루링크 어플리케이션을 통해 발급받으실 수 있습니다. ▶ 홈...  \n",
       "5  리모컨 분실로 추가 구입을 원하실 경우, 당사 서비스망에 차를 가지고 내방을 하시거...  \n",
       "6  블루링크 센터를 통해 서비스를 해지하실 수 있습니다. ① 블루링크 센터 전화 연결 ...  \n",
       "7  블루링크 센터 또는 현대자동차 홈페이지를 통해 변경이 가능합니다. ※ 블루링크 센터...  \n",
       "8  로그인 정보 입력 후 차량 계약자 핸드폰 번호로 발송된 인증번호를 입력하시면, 다른...  \n",
       "9  현대 긴급출동의 경우, 보증수리 대상인 경우에는 출동비가 무상이나, 보증수리 초과 ...  "
      ]
     },
     "execution_count": 10,
     "metadata": {},
     "output_type": "execute_result"
    }
   ],
   "source": [
    "# 저장된 csv파일 dataframe변환\n",
    "df = pd.read_csv(\"현대자동차.csv\")\n",
    "df"
   ]
  },
  {
   "cell_type": "code",
   "execution_count": 11,
   "id": "9582613e",
   "metadata": {},
   "outputs": [
    {
     "data": {
      "text/plain": [
       "<Response [200]>"
      ]
     },
     "execution_count": 11,
     "metadata": {},
     "output_type": "execute_result"
    }
   ],
   "source": [
    "# 2페이지\n",
    "url = \"https://www.hyundai.com/wsvc/front/biz/frontFaq.faqListArr.do?searchKeyword=&pageNo=2&frontSupiCtgr=&frontCtgrScd=\"\n",
    "response = requests.get(url)\n",
    "response"
   ]
  },
  {
   "cell_type": "code",
   "execution_count": 12,
   "id": "2bf38933",
   "metadata": {},
   "outputs": [
    {
     "data": {
      "text/plain": [
       "{'data': [{'frontFaqSn': '57',\n",
       "   'frontFaqTitlSbc': '신차 출고 후 이전처럼 꼭 처음에 엔진오일 교환해야되는건가요? &amp;#40;최초 엔진오일 교환시점&amp;#41;',\n",
       "   'frontFaqSbc': '&lt;p&gt;엔진오일 교환 주기는 통상/가혹 조건에 따라 교환해주시면 되는데, 통상조건으로는 매 15,000㎞(또는 12개월),&lt;/p&gt;&lt;p&gt;가혹조건으로는 매 7,500㎞(또는 6개월)마다 교환해 주시면 좋을것 같습니다.&lt;/p&gt;&lt;p&gt;※단, 차종 및 엔진별 엔진오일 교환주기는 다르기 때문에, 취급설명서내 정기점검 주기표를 참고 바랍니다.&lt;/p&gt;&lt;p&gt;&lt;br&gt;&lt;/p&gt;&lt;p&gt;[참고] 가혹조건이란?&lt;/p&gt;&lt;p&gt;－짧은 거리를 반복해서 주행&lt;/p&gt;&lt;p&gt;－험한길(모래 자갈길,비포장길,먼지가 많은 지역)을 반복해서 주행했을때&lt;/p&gt;&lt;p&gt;－급출발,급가속,공회전을 과다하게 수행했을때&lt;/p&gt;&lt;p&gt;&lt;br&gt;&lt;/p&gt;&lt;p&gt;※ 현대자동차 홈폐이지 &amp;gt; 하단 &amp;#39;자료실&amp;#39; 에서 차종별 취급설명서 검색 &amp;nbsp; &lt;a href=\"https://www.hyundai.com/kr/ko/download-center\" rel=\"noopener noreferrer\" target=\"_blank\"&gt;▶바로가기&lt;/a&gt;&lt;/p&gt;',\n",
       "   'frontDsplTrn': 0,\n",
       "   'fileList': [],\n",
       "   'filePaths': [],\n",
       "   'imagePaths': [],\n",
       "   'frontSupiCtgr': '02',\n",
       "   'frontCtgrScd': '001',\n",
       "   'frontSupiCtgrNM': '차량정비',\n",
       "   'frontCtgrScdNM': '일반'},\n",
       "  {'frontFaqSn': '491',\n",
       "   'frontFaqTitlSbc': '[요금] 블루링크 이용 요금은 얼마인가요?',\n",
       "   'frontFaqSbc': '&lt;p&gt;블루링크는 차종에 따라 일정 기간 동안 원격제어, 안전보안, 차량관리, 길안내 서비스가 무료로 제공됩니다.&amp;nbsp;&lt;/p&gt;&lt;p&gt;차종에 따른 무료 이용 기간은 블루링크 홈페이지의 &amp;lsquo;&lt;a href=\"https://www.hyundai.com/kr/ko/customer-service/bluelink/use-guide/price-information\"&gt;요금제 안내&lt;/a&gt;&amp;rsquo;에서 확인하실 수 있습니다.&amp;nbsp;&lt;/p&gt;&lt;p&gt;단, 신차 구매 후 최초 가입 고객에 한해 무료 이용이 가능하며, 중고차 구매 후 가입을 하실 경우 유료(월 11,000원)로 제공됩니다.&amp;nbsp;&lt;/p&gt;&lt;p&gt;블루링크무료 이용 기간이 종료된 이후에는 유료(월 11,000원)로 제공됩니다.&amp;nbsp;&lt;/p&gt;',\n",
       "   'frontDsplTrn': 0,\n",
       "   'fileList': [],\n",
       "   'filePaths': [],\n",
       "   'imagePaths': [],\n",
       "   'frontSupiCtgr': '10',\n",
       "   'frontCtgrScd': '003',\n",
       "   'frontSupiCtgrNM': '블루링크',\n",
       "   'frontCtgrScdNM': '요금'},\n",
       "  {'frontFaqSn': '113',\n",
       "   'frontFaqTitlSbc': '장애인 조건으로 차량구입시 혜택을 알고 싶습니다.',\n",
       "   'frontFaqSbc': '&lt;p&gt;▶장애인 조건으로 차량 구입시 혜택은 크게 3가지 입니다.&lt;/p&gt;&lt;p&gt;&amp;nbsp;① 차량 개소세 면세&lt;/p&gt;&lt;p&gt;&amp;nbsp;② 지방세(취득세, 등록세, 자동차세)면세(서울시 기준)&lt;/p&gt;&lt;p&gt;&amp;nbsp;③ 공채매입 면세&lt;/p&gt;&lt;p data-empty=\"true\"&gt;&lt;br&gt;&lt;/p&gt;&lt;p&gt;&amp;nbsp;이중 일반장애 1~3급 및 국가유공상이 1~7급은 1,2,3번의 혜택을 모두 받으실 수 있으며&lt;/p&gt;&lt;p&gt;&amp;nbsp;그 이외의 장애등급 고객께서는 공채매입 면제만 가능합니다.(서울시 기준)&lt;/p&gt;&lt;p data-empty=\"true\"&gt;&lt;br&gt;&lt;/p&gt;&lt;p&gt;&amp;nbsp;※지방세 면세내용은 각 지방자치단체 조례에 따라 상이하므로 반드시 해당 지방자치단체로&lt;/p&gt;&lt;p&gt;문의 및 구입전 확인을 요합니다.&lt;/p&gt;',\n",
       "   'frontDsplTrn': 0,\n",
       "   'fileList': [],\n",
       "   'filePaths': [],\n",
       "   'imagePaths': [],\n",
       "   'frontSupiCtgr': '01',\n",
       "   'frontCtgrScd': '001',\n",
       "   'frontSupiCtgrNM': '차량구매',\n",
       "   'frontCtgrScdNM': '일반'},\n",
       "  {'frontFaqSn': '457',\n",
       "   'frontFaqTitlSbc': '[단말기] 블루링크 전화번호(차량 전화번호)는 어디서 확인하나요? ',\n",
       "   'frontFaqSbc': '&lt;p&gt;내비게이션 홈화면에서&lt;span lang=\"EN-US\"&gt;&amp;nbsp;[&lt;/span&gt;전체 메뉴&lt;span lang=\"EN-US\"&gt;]&amp;nbsp;&lt;/span&gt;선택 ▶&lt;span lang=\"EN-US\"&gt;&amp;nbsp;[&lt;/span&gt;블루링크&lt;span lang=\"EN-US\"&gt;]&amp;nbsp;&lt;/span&gt;선택 ▶&lt;span lang=\"EN-US\"&gt;&amp;nbsp;[&lt;/span&gt;블루링크 설정&lt;span lang=\"EN-US\"&gt;]&amp;nbsp;&lt;/span&gt;선택 ▶&lt;span lang=\"EN-US\"&gt;&amp;nbsp;[&lt;/span&gt;모뎀 정보&lt;span lang=\"EN-US\"&gt;]&amp;nbsp;&lt;/span&gt;선택 후 &lt;span lang=\"EN-US\"&gt;&amp;lsquo;&lt;/span&gt;전화번호&lt;span lang=\"EN-US\"&gt;&amp;rsquo;&lt;/span&gt;에서 확인하실 수 있습니다&lt;span lang=\"EN-US\"&gt;.&lt;/span&gt;&lt;/p&gt;&lt;p&gt;※ 차종에 따라 확인 방법이 일부 상이할 수 있습니다&lt;span lang=\"EN-US\"&gt;.&lt;/span&gt;&lt;/p&gt;',\n",
       "   'frontDsplTrn': 0,\n",
       "   'fileList': [],\n",
       "   'filePaths': [],\n",
       "   'imagePaths': [],\n",
       "   'frontSupiCtgr': '10',\n",
       "   'frontCtgrScd': '002',\n",
       "   'frontSupiCtgrNM': '블루링크',\n",
       "   'frontCtgrScdNM': '서비스 이용'},\n",
       "  {'frontFaqSn': '59',\n",
       "   'frontFaqTitlSbc': '차종별 보증기간 문의',\n",
       "   'frontFaqSbc': '&lt;p&gt;차량 구입시 취급설명서에 해당차량 보증기간 세부사항이 명기 되어 있습니다.&lt;/p&gt;&lt;p data-empty=\"true\"&gt;&lt;br&gt;&lt;/p&gt;&lt;p&gt;※ 현대자동차 홈페이지 &amp;gt; 고객서비스 &amp;gt; 차량관리 서비스 &amp;gt; 보증수리 안내 &amp;gt;일반 보증기간 &amp;nbsp; &lt;span style=\"color: #006992;\"&gt;&lt;a href=\"https://www.hyundai.com/kr/ko/customer-service/car-management-service/warranty-period/normal-period\" rel=\"noopener noreferrer\" target=\"_blank\"&gt;바로가기 ▶&lt;/a&gt;&lt;/span&gt;&lt;/p&gt;&lt;p&gt;※ 현대자동차 홈폐이지 &amp;gt; 하단 &amp;#39;자료실&amp;#39; 에서 차종별 취급설명서 검색 &amp;nbsp; &lt;span style=\"color: #006992;\"&gt;&lt;a href=\"https://www.hyundai.com/kr/ko/download-center\" rel=\"noopener noreferrer\" target=\"_blank\"&gt;바로가기 ▶&lt;/a&gt;&lt;/span&gt;&lt;/p&gt;',\n",
       "   'frontDsplTrn': 0,\n",
       "   'fileList': [],\n",
       "   'filePaths': [],\n",
       "   'imagePaths': [],\n",
       "   'frontSupiCtgr': '02',\n",
       "   'frontCtgrScd': '001',\n",
       "   'frontSupiCtgrNM': '차량정비',\n",
       "   'frontCtgrScdNM': '일반'},\n",
       "  {'frontFaqSn': '38',\n",
       "   'frontFaqTitlSbc': '인텔리전트 내비게이션 업데이트 하려고 하는데요. 방법이 어떻게 되나요?',\n",
       "   'frontFaqSbc': '&lt;p&gt;내비게이션 업데이트 방법은 기존 웹 다운로드 방식과 스마트 업데이터 방식이 있습니다.&lt;/p&gt;&lt;p data-empty=\"true\"&gt;&lt;br&gt;&lt;/p&gt;&lt;p&gt;&amp;quot;스마트 업데이터 플러스&amp;quot;란?&lt;/p&gt;&lt;p&gt;현대자동차 순정 내비게이션 업그레이드를 손쉽게 자신의 컴퓨터에 다운로드 받아서&lt;/p&gt;&lt;p&gt;설치 할 수 있도록 도와주는 프로그램 입니다.&lt;/p&gt;&lt;p data-empty=\"true\"&gt;&lt;br&gt;&lt;/p&gt;&lt;p&gt;※ &amp;nbsp;자세한 업데이트 방법은 당사 홈페이지 참고 바랍니다.&lt;/p&gt;&lt;p&gt;※ &amp;nbsp;현대자동차 홈페이지 &amp;gt; 고객서비스 &amp;gt; 차량관리서비스 &amp;gt; 내비게이션 / 빌트인 캠 업데이트 &lt;a href=\"https://www.hyundai.com/kr/ko/customer-service/car-management-service/navigation-update\"&gt;바로가기 ▶&lt;/a&gt;&lt;/p&gt;',\n",
       "   'frontDsplTrn': 0,\n",
       "   'fileList': [],\n",
       "   'filePaths': [],\n",
       "   'imagePaths': [],\n",
       "   'frontSupiCtgr': '02',\n",
       "   'frontCtgrScd': '001',\n",
       "   'frontSupiCtgrNM': '차량정비',\n",
       "   'frontCtgrScdNM': '일반'},\n",
       "  {'frontFaqSn': '145',\n",
       "   'frontFaqTitlSbc': '현대자동차에서 중고차를 구입할 수 있나요?',\n",
       "   'frontFaqSbc': '&lt;p&gt;저희 현대자동차는 신차를 제조하여 판매를 사업영역으로 하는 회사로&lt;/p&gt;&lt;p&gt;중고차의 매입 및 판매는 시행하지 않습니다.&lt;/p&gt;&lt;p&gt;&lt;br&gt;&lt;/p&gt;&lt;p&gt;※ 고객분들의 편리하고 안전한 중고차 거래를 위해 사이트 운영중이니 참고하시기 바랍니다.&lt;/p&gt;&lt;p&gt;&lt;a href=\"https://www.hyundai.com\"&gt;&lt;/a&gt;&lt;a href=\"https://www.hyundai.com\"&gt;현&lt;/a&gt;대자동차 홈페이지 &amp;nbsp;&amp;gt; 고객서비스 &amp;gt; 차량관리서비스 &amp;gt; 중고차 &amp;gt; 내차팔기 &amp;nbsp; &lt;span style=\"color: #006992;\"&gt;&lt;a href=\"https://www.hyundai.com/kr/ko/customer-service/car-management-service/usedcar/mycar-sell\" rel=\"noopener noreferrer\" target=\"_blank\"&gt;바로가기 ▶&lt;/a&gt;&lt;/span&gt;&lt;/p&gt;&lt;p&gt;&lt;a href=\"https://www.hyundai.com\"&gt;&lt;/a&gt;단,현대자동차㈜는 통신판매 중개자로서 해당 사이트의 책임은 현대글로비스㈜와 ㈜유카에 있습니다.&lt;/p&gt;',\n",
       "   'frontDsplTrn': 0,\n",
       "   'fileList': [],\n",
       "   'filePaths': [],\n",
       "   'imagePaths': [],\n",
       "   'frontSupiCtgr': '01',\n",
       "   'frontCtgrScd': '001',\n",
       "   'frontSupiCtgrNM': '차량구매',\n",
       "   'frontCtgrScdNM': '일반'},\n",
       "  {'frontFaqSn': '115',\n",
       "   'frontFaqTitlSbc': '포인트는 유효기간이 있나요?',\n",
       "   'frontFaqSbc': '<p>▶ 현대카드M M포인트 및 현대자동차 제휴카드 포인트의 유효기간은 최초적립일로부터<br /> \\xa0\\xa0\\xa0\\xa0\\xa0만 5년 입니다. 따라서 이 기간이 지난 포인트는 최초적립일로부터 월단위로 소멸됩니다.</p>',\n",
       "   'frontDsplTrn': 0,\n",
       "   'fileList': [],\n",
       "   'filePaths': [],\n",
       "   'imagePaths': [],\n",
       "   'frontSupiCtgr': '01',\n",
       "   'frontCtgrScd': '001',\n",
       "   'frontSupiCtgrNM': '차량구매',\n",
       "   'frontCtgrScdNM': '일반'},\n",
       "  {'frontFaqSn': '434',\n",
       "   'frontFaqTitlSbc': '보증 수리기간이 어떻게 되나요?',\n",
       "   'frontFaqSbc': '모젠 단말기의 보증수리 기간은 구입한 신차의 보증 내용 및 규약에 종속됩니다. \\n\\n현대자동차의 보증수리 기간은 차종, 동력전달장치, 일반부품 등에 따라 차이가 있으며, 모젠 단말기는 일반부품의 보증기간에 따릅니다.',\n",
       "   'frontDsplTrn': 0,\n",
       "   'fileList': [],\n",
       "   'filePaths': [],\n",
       "   'imagePaths': [],\n",
       "   'frontSupiCtgr': '09',\n",
       "   'frontCtgrScd': '001',\n",
       "   'frontSupiCtgrNM': '모젠서비스',\n",
       "   'frontCtgrScdNM': '사용법'},\n",
       "  {'frontFaqSn': '474',\n",
       "   'frontFaqTitlSbc': '[가입] 블루링크가 장착된 차량을 중고로 구매하였습니다. 블루링크 가입이 가능한가요?',\n",
       "   'frontFaqSbc': '&lt;p&gt;블루링크 센터에 연락하시어 가입 신청을 하신 후 이용하실 수 있습니다&lt;span lang=\"EN-US\"&gt;.&amp;nbsp;&lt;/span&gt;&lt;/p&gt;&lt;p&gt;※ 차종에 따라 가입 완료 안내 문자 수신 후 차량 내 설정이 필요할 수 있습니다&lt;span lang=\"EN-US\"&gt;.&lt;/span&gt;&lt;/p&gt;&lt;p&gt;※ 중고차로 서비스 가입시에는 기본 서비스 무료 제공 혜택이 제공되지 않습니다&lt;span lang=\"EN-US\"&gt;.&lt;/span&gt;&lt;/p&gt;&lt;p&gt;※ 블루링크 센터&lt;/p&gt;&lt;p&gt;&lt;span lang=\"EN-US\"&gt;&amp;nbsp; &amp;nbsp; &amp;nbsp;-&amp;nbsp;&lt;/span&gt;전화&lt;span lang=\"EN-US\"&gt;&amp;nbsp;:&amp;nbsp;&lt;/span&gt;&lt;span lang=\"EN-US\"&gt;1899-0606&lt;/span&gt;&lt;/p&gt;&lt;p&gt;&lt;span lang=\"EN-US\"&gt;&amp;nbsp; &amp;nbsp; &amp;nbsp;-&amp;nbsp;&lt;/span&gt;업무시간&lt;span lang=\"EN-US\"&gt;&amp;nbsp;:&amp;nbsp;&lt;/span&gt;평일&lt;span lang=\"EN-US\"&gt;&amp;nbsp;09:00 ~ 18:00 (&lt;/span&gt;토&lt;span lang=\"EN-US\"&gt;/&lt;/span&gt;일요일 및 공휴일 휴무&lt;span lang=\"EN-US\"&gt;)&lt;/span&gt;&lt;/p&gt;',\n",
       "   'frontDsplTrn': 0,\n",
       "   'fileList': [],\n",
       "   'filePaths': [],\n",
       "   'imagePaths': [],\n",
       "   'frontSupiCtgr': '10',\n",
       "   'frontCtgrScd': '001',\n",
       "   'frontSupiCtgrNM': '블루링크',\n",
       "   'frontCtgrScdNM': '가입/해지/변경'}],\n",
       " 'resultCode': '0000',\n",
       " 'message': '203'}"
      ]
     },
     "execution_count": 12,
     "metadata": {},
     "output_type": "execute_result"
    }
   ],
   "source": [
    "# 해당 url은 json방식이므로, json라이브러리 이용\n",
    "page = json.loads(response.text)\n",
    "page"
   ]
  },
  {
   "cell_type": "code",
   "execution_count": 13,
   "id": "37b312e0",
   "metadata": {},
   "outputs": [
    {
     "data": {
      "text/plain": [
       "['신차 출고 후 이전처럼 꼭 처음에 엔진오일 교환해야되는건가요? &amp;#40;최초 엔진오일 교환시점&amp;#41;',\n",
       " '[요금] 블루링크 이용 요금은 얼마인가요?',\n",
       " '장애인 조건으로 차량구입시 혜택을 알고 싶습니다.',\n",
       " '[단말기] 블루링크 전화번호(차량 전화번호)는 어디서 확인하나요? ',\n",
       " '차종별 보증기간 문의',\n",
       " '인텔리전트 내비게이션 업데이트 하려고 하는데요. 방법이 어떻게 되나요?',\n",
       " '현대자동차에서 중고차를 구입할 수 있나요?',\n",
       " '포인트는 유효기간이 있나요?',\n",
       " '보증 수리기간이 어떻게 되나요?',\n",
       " '[가입] 블루링크가 장착된 차량을 중고로 구매하였습니다. 블루링크 가입이 가능한가요?']"
      ]
     },
     "execution_count": 13,
     "metadata": {},
     "output_type": "execute_result"
    }
   ],
   "source": [
    "# 현대자동차 FAQ의 제목을 리스트로 저장 및 출력\n",
    "title = [i[\"frontFaqTitlSbc\"] for i in page[\"data\"]]\n",
    "title"
   ]
  },
  {
   "cell_type": "code",
   "execution_count": 14,
   "id": "e33cdd21",
   "metadata": {},
   "outputs": [
    {
     "data": {
      "text/plain": [
       "['&lt;p&gt;엔진오일 교환 주기는 통상/가혹 조건에 따라 교환해주시면 되는데, 통상조건으로는 매 15,000㎞(또는 12개월),&lt;/p&gt;&lt;p&gt;가혹조건으로는 매 7,500㎞(또는 6개월)마다 교환해 주시면 좋을것 같습니다.&lt;/p&gt;&lt;p&gt;※단, 차종 및 엔진별 엔진오일 교환주기는 다르기 때문에, 취급설명서내 정기점검 주기표를 참고 바랍니다.&lt;/p&gt;&lt;p&gt;&lt;br&gt;&lt;/p&gt;&lt;p&gt;[참고] 가혹조건이란?&lt;/p&gt;&lt;p&gt;－짧은 거리를 반복해서 주행&lt;/p&gt;&lt;p&gt;－험한길(모래 자갈길,비포장길,먼지가 많은 지역)을 반복해서 주행했을때&lt;/p&gt;&lt;p&gt;－급출발,급가속,공회전을 과다하게 수행했을때&lt;/p&gt;&lt;p&gt;&lt;br&gt;&lt;/p&gt;&lt;p&gt;※ 현대자동차 홈폐이지 &amp;gt; 하단 &amp;#39;자료실&amp;#39; 에서 차종별 취급설명서 검색 &amp;nbsp; &lt;a href=\"https://www.hyundai.com/kr/ko/download-center\" rel=\"noopener noreferrer\" target=\"_blank\"&gt;▶바로가기&lt;/a&gt;&lt;/p&gt;',\n",
       " '&lt;p&gt;블루링크는 차종에 따라 일정 기간 동안 원격제어, 안전보안, 차량관리, 길안내 서비스가 무료로 제공됩니다.&amp;nbsp;&lt;/p&gt;&lt;p&gt;차종에 따른 무료 이용 기간은 블루링크 홈페이지의 &amp;lsquo;&lt;a href=\"https://www.hyundai.com/kr/ko/customer-service/bluelink/use-guide/price-information\"&gt;요금제 안내&lt;/a&gt;&amp;rsquo;에서 확인하실 수 있습니다.&amp;nbsp;&lt;/p&gt;&lt;p&gt;단, 신차 구매 후 최초 가입 고객에 한해 무료 이용이 가능하며, 중고차 구매 후 가입을 하실 경우 유료(월 11,000원)로 제공됩니다.&amp;nbsp;&lt;/p&gt;&lt;p&gt;블루링크무료 이용 기간이 종료된 이후에는 유료(월 11,000원)로 제공됩니다.&amp;nbsp;&lt;/p&gt;',\n",
       " '&lt;p&gt;▶장애인 조건으로 차량 구입시 혜택은 크게 3가지 입니다.&lt;/p&gt;&lt;p&gt;&amp;nbsp;① 차량 개소세 면세&lt;/p&gt;&lt;p&gt;&amp;nbsp;② 지방세(취득세, 등록세, 자동차세)면세(서울시 기준)&lt;/p&gt;&lt;p&gt;&amp;nbsp;③ 공채매입 면세&lt;/p&gt;&lt;p data-empty=\"true\"&gt;&lt;br&gt;&lt;/p&gt;&lt;p&gt;&amp;nbsp;이중 일반장애 1~3급 및 국가유공상이 1~7급은 1,2,3번의 혜택을 모두 받으실 수 있으며&lt;/p&gt;&lt;p&gt;&amp;nbsp;그 이외의 장애등급 고객께서는 공채매입 면제만 가능합니다.(서울시 기준)&lt;/p&gt;&lt;p data-empty=\"true\"&gt;&lt;br&gt;&lt;/p&gt;&lt;p&gt;&amp;nbsp;※지방세 면세내용은 각 지방자치단체 조례에 따라 상이하므로 반드시 해당 지방자치단체로&lt;/p&gt;&lt;p&gt;문의 및 구입전 확인을 요합니다.&lt;/p&gt;',\n",
       " '&lt;p&gt;내비게이션 홈화면에서&lt;span lang=\"EN-US\"&gt;&amp;nbsp;[&lt;/span&gt;전체 메뉴&lt;span lang=\"EN-US\"&gt;]&amp;nbsp;&lt;/span&gt;선택 ▶&lt;span lang=\"EN-US\"&gt;&amp;nbsp;[&lt;/span&gt;블루링크&lt;span lang=\"EN-US\"&gt;]&amp;nbsp;&lt;/span&gt;선택 ▶&lt;span lang=\"EN-US\"&gt;&amp;nbsp;[&lt;/span&gt;블루링크 설정&lt;span lang=\"EN-US\"&gt;]&amp;nbsp;&lt;/span&gt;선택 ▶&lt;span lang=\"EN-US\"&gt;&amp;nbsp;[&lt;/span&gt;모뎀 정보&lt;span lang=\"EN-US\"&gt;]&amp;nbsp;&lt;/span&gt;선택 후 &lt;span lang=\"EN-US\"&gt;&amp;lsquo;&lt;/span&gt;전화번호&lt;span lang=\"EN-US\"&gt;&amp;rsquo;&lt;/span&gt;에서 확인하실 수 있습니다&lt;span lang=\"EN-US\"&gt;.&lt;/span&gt;&lt;/p&gt;&lt;p&gt;※ 차종에 따라 확인 방법이 일부 상이할 수 있습니다&lt;span lang=\"EN-US\"&gt;.&lt;/span&gt;&lt;/p&gt;',\n",
       " '&lt;p&gt;차량 구입시 취급설명서에 해당차량 보증기간 세부사항이 명기 되어 있습니다.&lt;/p&gt;&lt;p data-empty=\"true\"&gt;&lt;br&gt;&lt;/p&gt;&lt;p&gt;※ 현대자동차 홈페이지 &amp;gt; 고객서비스 &amp;gt; 차량관리 서비스 &amp;gt; 보증수리 안내 &amp;gt;일반 보증기간 &amp;nbsp; &lt;span style=\"color: #006992;\"&gt;&lt;a href=\"https://www.hyundai.com/kr/ko/customer-service/car-management-service/warranty-period/normal-period\" rel=\"noopener noreferrer\" target=\"_blank\"&gt;바로가기 ▶&lt;/a&gt;&lt;/span&gt;&lt;/p&gt;&lt;p&gt;※ 현대자동차 홈폐이지 &amp;gt; 하단 &amp;#39;자료실&amp;#39; 에서 차종별 취급설명서 검색 &amp;nbsp; &lt;span style=\"color: #006992;\"&gt;&lt;a href=\"https://www.hyundai.com/kr/ko/download-center\" rel=\"noopener noreferrer\" target=\"_blank\"&gt;바로가기 ▶&lt;/a&gt;&lt;/span&gt;&lt;/p&gt;',\n",
       " '&lt;p&gt;내비게이션 업데이트 방법은 기존 웹 다운로드 방식과 스마트 업데이터 방식이 있습니다.&lt;/p&gt;&lt;p data-empty=\"true\"&gt;&lt;br&gt;&lt;/p&gt;&lt;p&gt;&amp;quot;스마트 업데이터 플러스&amp;quot;란?&lt;/p&gt;&lt;p&gt;현대자동차 순정 내비게이션 업그레이드를 손쉽게 자신의 컴퓨터에 다운로드 받아서&lt;/p&gt;&lt;p&gt;설치 할 수 있도록 도와주는 프로그램 입니다.&lt;/p&gt;&lt;p data-empty=\"true\"&gt;&lt;br&gt;&lt;/p&gt;&lt;p&gt;※ &amp;nbsp;자세한 업데이트 방법은 당사 홈페이지 참고 바랍니다.&lt;/p&gt;&lt;p&gt;※ &amp;nbsp;현대자동차 홈페이지 &amp;gt; 고객서비스 &amp;gt; 차량관리서비스 &amp;gt; 내비게이션 / 빌트인 캠 업데이트 &lt;a href=\"https://www.hyundai.com/kr/ko/customer-service/car-management-service/navigation-update\"&gt;바로가기 ▶&lt;/a&gt;&lt;/p&gt;',\n",
       " '&lt;p&gt;저희 현대자동차는 신차를 제조하여 판매를 사업영역으로 하는 회사로&lt;/p&gt;&lt;p&gt;중고차의 매입 및 판매는 시행하지 않습니다.&lt;/p&gt;&lt;p&gt;&lt;br&gt;&lt;/p&gt;&lt;p&gt;※ 고객분들의 편리하고 안전한 중고차 거래를 위해 사이트 운영중이니 참고하시기 바랍니다.&lt;/p&gt;&lt;p&gt;&lt;a href=\"https://www.hyundai.com\"&gt;&lt;/a&gt;&lt;a href=\"https://www.hyundai.com\"&gt;현&lt;/a&gt;대자동차 홈페이지 &amp;nbsp;&amp;gt; 고객서비스 &amp;gt; 차량관리서비스 &amp;gt; 중고차 &amp;gt; 내차팔기 &amp;nbsp; &lt;span style=\"color: #006992;\"&gt;&lt;a href=\"https://www.hyundai.com/kr/ko/customer-service/car-management-service/usedcar/mycar-sell\" rel=\"noopener noreferrer\" target=\"_blank\"&gt;바로가기 ▶&lt;/a&gt;&lt;/span&gt;&lt;/p&gt;&lt;p&gt;&lt;a href=\"https://www.hyundai.com\"&gt;&lt;/a&gt;단,현대자동차㈜는 통신판매 중개자로서 해당 사이트의 책임은 현대글로비스㈜와 ㈜유카에 있습니다.&lt;/p&gt;',\n",
       " '<p>▶ 현대카드M M포인트 및 현대자동차 제휴카드 포인트의 유효기간은 최초적립일로부터<br /> \\xa0\\xa0\\xa0\\xa0\\xa0만 5년 입니다. 따라서 이 기간이 지난 포인트는 최초적립일로부터 월단위로 소멸됩니다.</p>',\n",
       " '모젠 단말기의 보증수리 기간은 구입한 신차의 보증 내용 및 규약에 종속됩니다. \\n\\n현대자동차의 보증수리 기간은 차종, 동력전달장치, 일반부품 등에 따라 차이가 있으며, 모젠 단말기는 일반부품의 보증기간에 따릅니다.',\n",
       " '&lt;p&gt;블루링크 센터에 연락하시어 가입 신청을 하신 후 이용하실 수 있습니다&lt;span lang=\"EN-US\"&gt;.&amp;nbsp;&lt;/span&gt;&lt;/p&gt;&lt;p&gt;※ 차종에 따라 가입 완료 안내 문자 수신 후 차량 내 설정이 필요할 수 있습니다&lt;span lang=\"EN-US\"&gt;.&lt;/span&gt;&lt;/p&gt;&lt;p&gt;※ 중고차로 서비스 가입시에는 기본 서비스 무료 제공 혜택이 제공되지 않습니다&lt;span lang=\"EN-US\"&gt;.&lt;/span&gt;&lt;/p&gt;&lt;p&gt;※ 블루링크 센터&lt;/p&gt;&lt;p&gt;&lt;span lang=\"EN-US\"&gt;&amp;nbsp; &amp;nbsp; &amp;nbsp;-&amp;nbsp;&lt;/span&gt;전화&lt;span lang=\"EN-US\"&gt;&amp;nbsp;:&amp;nbsp;&lt;/span&gt;&lt;span lang=\"EN-US\"&gt;1899-0606&lt;/span&gt;&lt;/p&gt;&lt;p&gt;&lt;span lang=\"EN-US\"&gt;&amp;nbsp; &amp;nbsp; &amp;nbsp;-&amp;nbsp;&lt;/span&gt;업무시간&lt;span lang=\"EN-US\"&gt;&amp;nbsp;:&amp;nbsp;&lt;/span&gt;평일&lt;span lang=\"EN-US\"&gt;&amp;nbsp;09:00 ~ 18:00 (&lt;/span&gt;토&lt;span lang=\"EN-US\"&gt;/&lt;/span&gt;일요일 및 공휴일 휴무&lt;span lang=\"EN-US\"&gt;)&lt;/span&gt;&lt;/p&gt;']"
      ]
     },
     "execution_count": 14,
     "metadata": {},
     "output_type": "execute_result"
    }
   ],
   "source": [
    "# 현대자동차 FAQ의 내용을 리스트로 저장 및 출력\n",
    "content = [i[\"frontFaqSbc\"] for i in page[\"data\"]]\n",
    "content"
   ]
  },
  {
   "cell_type": "code",
   "execution_count": 15,
   "id": "27f4bfa4",
   "metadata": {},
   "outputs": [
    {
     "data": {
      "text/plain": [
       "['신차 출고 후 이전처럼 꼭 처음에 엔진오일 교환해야되는건가요?  최초 엔진오일 교환시점 ',\n",
       " '[요금] 블루링크 이용 요금은 얼마인가요?',\n",
       " '장애인 조건으로 차량구입시 혜택을 알고 싶습니다.',\n",
       " '[단말기] 블루링크 전화번호(차량 전화번호)는 어디서 확인하나요?',\n",
       " '차종별 보증기간 문의',\n",
       " '인텔리전트 내비게이션 업데이트 하려고 하는데요. 방법이 어떻게 되나요?',\n",
       " '현대자동차에서 중고차를 구입할 수 있나요?',\n",
       " '포인트는 유효기간이 있나요?',\n",
       " '보증 수리기간이 어떻게 되나요?',\n",
       " '[가입] 블루링크가 장착된 차량을 중고로 구매하였습니다. 블루링크 가입이 가능한가요?']"
      ]
     },
     "execution_count": 15,
     "metadata": {},
     "output_type": "execute_result"
    }
   ],
   "source": [
    "# 2페이지도 정규표현식 적용 후 저장 및 출력\n",
    "title = [clean_html_text(i[\"frontFaqTitlSbc\"]) for i in page[\"data\"]]\n",
    "title"
   ]
  },
  {
   "cell_type": "code",
   "execution_count": 16,
   "id": "28456583",
   "metadata": {},
   "outputs": [
    {
     "data": {
      "text/plain": [
       "['엔진오일 교환 주기는 통상/가혹 조건에 따라 교환해주시면 되는데, 통상조건으로는 매 15,000㎞(또는 12개월), 가혹조건으로는 매 7,500㎞(또는 6개월)마다 교환해 주시면 좋을것 같습니다. ※단, 차종 및 엔진별 엔진오일 교환주기는 다르기 때문에, 취급설명서내 정기점검 주기표를 참고 바랍니다. [참고] 가혹조건이란? －짧은 거리를 반복해서 주행 －험한길(모래 자갈길,비포장길,먼지가 많은 지역)을 반복해서 주행했을때 －급출발,급가속,공회전을 과다하게 수행했을때 ※ 현대자동차 홈폐이지   하단  자료실  에서 차종별 취급설명서 검색   ▶ 바로가기',\n",
       " '블루링크는 차종에 따라 일정 기간 동안 원격제어, 안전보안, 차량관리, 길안내 서비스가 무료로 제공됩니다.  차종에 따른 무료 이용 기간은 블루링크 홈페이지의  요금제 안내 에서 확인하실 수 있습니다.  단, 신차 구매 후 최초 가입 고객에 한해 무료 이용이 가능하며, 중고차 구매 후 가입을 하실 경우 유료(월 11,000원)로 제공됩니다.  블루링크무료 이용 기간이 종료된 이후에는 유료(월 11,000원)로 제공됩니다. ',\n",
       " ' ▶ 장애인 조건으로 차량 구입시 혜택은 크게 3가지 입니다.  ① 차량 개소세 면세  ② 지방세(취득세, 등록세, 자동차세)면세(서울시 기준)  ③ 공채매입 면세  이중 일반장애 1~3급 및 국가유공상이 1~7급은 1,2,3번의 혜택을 모두 받으실 수 있으며  그 이외의 장애등급 고객께서는 공채매입 면제만 가능합니다.(서울시 기준)  ※지방세 면세내용은 각 지방자치단체 조례에 따라 상이하므로 반드시 해당 지방자치단체로 문의 및 구입전 확인을 요합니다.',\n",
       " '내비게이션 홈화면에서 [전체 메뉴] 선택 ▶  [블루링크] 선택 ▶  [블루링크 설정] 선택 ▶  [모뎀 정보] 선택 후  전화번호 에서 확인하실 수 있습니다. ※ 차종에 따라 확인 방법이 일부 상이할 수 있습니다.',\n",
       " '차량 구입시 취급설명서에 해당차량 보증기간 세부사항이 명기 되어 있습니다. ※ 현대자동차 홈페이지   고객서비스   차량관리 서비스   보증수리 안내  일반 보증기간   바로가기 ▶ ※ 현대자동차 홈폐이지   하단  자료실  에서 차종별 취급설명서 검색   바로가기 ▶ ',\n",
       " '내비게이션 업데이트 방법은 기존 웹 다운로드 방식과 스마트 업데이터 방식이 있습니다.  스마트 업데이터 플러스 란? 현대자동차 순정 내비게이션 업그레이드를 손쉽게 자신의 컴퓨터에 다운로드 받아서 설치 할 수 있도록 도와주는 프로그램 입니다. ※  자세한 업데이트 방법은 당사 홈페이지 참고 바랍니다. ※  현대자동차 홈페이지   고객서비스   차량관리서비스   내비게이션 / 빌트인 캠 업데이트 바로가기 ▶ ',\n",
       " '저희 현대자동차는 신차를 제조하여 판매를 사업영역으로 하는 회사로 중고차의 매입 및 판매는 시행하지 않습니다. ※ 고객분들의 편리하고 안전한 중고차 거래를 위해 사이트 운영중이니 참고하시기 바랍니다. 현대자동차 홈페이지    고객서비스   차량관리서비스   중고차   내차팔기   바로가기 ▶ 단,현대자동차㈜는 통신판매 중개자로서 해당 사이트의 책임은 현대글로비스㈜와 ㈜유카에 있습니다.',\n",
       " ' ▶ 현대카드M M포인트 및 현대자동차 제휴카드 포인트의 유효기간은 최초적립일로부터      만 5년 입니다. 따라서 이 기간이 지난 포인트는 최초적립일로부터 월단위로 소멸됩니다.',\n",
       " '모젠 단말기의 보증수리 기간은 구입한 신차의 보증 내용 및 규약에 종속됩니다. 현대자동차의 보증수리 기간은 차종, 동력전달장치, 일반부품 등에 따라 차이가 있으며, 모젠 단말기는 일반부품의 보증기간에 따릅니다.',\n",
       " '블루링크 센터에 연락하시어 가입 신청을 하신 후 이용하실 수 있습니다.  ※ 차종에 따라 가입 완료 안내 문자 수신 후 차량 내 설정이 필요할 수 있습니다. ※ 중고차로 서비스 가입시에는 기본 서비스 무료 제공 혜택이 제공되지 않습니다. ※ 블루링크 센터      - 전화 : 1899-0606      - 업무시간 : 평일 09:00 ~ 18:00 (토/일요일 및 공휴일 휴무)']"
      ]
     },
     "execution_count": 16,
     "metadata": {},
     "output_type": "execute_result"
    }
   ],
   "source": [
    "content = [clean_html_text(i[\"frontFaqSbc\"]) for i in page[\"data\"]]\n",
    "content"
   ]
  },
  {
   "cell_type": "code",
   "execution_count": 17,
   "id": "e9d05880",
   "metadata": {},
   "outputs": [
    {
     "name": "stdout",
     "output_type": "stream",
     "text": [
      "[['신차 출고 후 이전처럼 꼭 처음에 엔진오일 교환해야되는건가요?  최초 엔진오일 교환시점 ', '엔진오일 교환 주기는 통상/가혹 조건에 따라 교환해주시면 되는데, 통상조건으로는 매 15,000㎞(또는 12개월), 가혹조건으로는 매 7,500㎞(또는 6개월)마다 교환해 주시면 좋을것 같습니다. ※단, 차종 및 엔진별 엔진오일 교환주기는 다르기 때문에, 취급설명서내 정기점검 주기표를 참고 바랍니다. [참고] 가혹조건이란? －짧은 거리를 반복해서 주행 －험한길(모래 자갈길,비포장길,먼지가 많은 지역)을 반복해서 주행했을때 －급출발,급가속,공회전을 과다하게 수행했을때 ※ 현대자동차 홈폐이지   하단  자료실  에서 차종별 취급설명서 검색   ▶ 바로가기'], ['[요금] 블루링크 이용 요금은 얼마인가요?', '블루링크는 차종에 따라 일정 기간 동안 원격제어, 안전보안, 차량관리, 길안내 서비스가 무료로 제공됩니다.  차종에 따른 무료 이용 기간은 블루링크 홈페이지의  요금제 안내 에서 확인하실 수 있습니다.  단, 신차 구매 후 최초 가입 고객에 한해 무료 이용이 가능하며, 중고차 구매 후 가입을 하실 경우 유료(월 11,000원)로 제공됩니다.  블루링크무료 이용 기간이 종료된 이후에는 유료(월 11,000원)로 제공됩니다. '], ['장애인 조건으로 차량구입시 혜택을 알고 싶습니다.', ' ▶ 장애인 조건으로 차량 구입시 혜택은 크게 3가지 입니다.  ① 차량 개소세 면세  ② 지방세(취득세, 등록세, 자동차세)면세(서울시 기준)  ③ 공채매입 면세  이중 일반장애 1~3급 및 국가유공상이 1~7급은 1,2,3번의 혜택을 모두 받으실 수 있으며  그 이외의 장애등급 고객께서는 공채매입 면제만 가능합니다.(서울시 기준)  ※지방세 면세내용은 각 지방자치단체 조례에 따라 상이하므로 반드시 해당 지방자치단체로 문의 및 구입전 확인을 요합니다.'], ['[단말기] 블루링크 전화번호(차량 전화번호)는 어디서 확인하나요?', '내비게이션 홈화면에서 [전체 메뉴] 선택 ▶  [블루링크] 선택 ▶  [블루링크 설정] 선택 ▶  [모뎀 정보] 선택 후  전화번호 에서 확인하실 수 있습니다. ※ 차종에 따라 확인 방법이 일부 상이할 수 있습니다.'], ['차종별 보증기간 문의', '차량 구입시 취급설명서에 해당차량 보증기간 세부사항이 명기 되어 있습니다. ※ 현대자동차 홈페이지   고객서비스   차량관리 서비스   보증수리 안내  일반 보증기간   바로가기 ▶ ※ 현대자동차 홈폐이지   하단  자료실  에서 차종별 취급설명서 검색   바로가기 ▶ '], ['인텔리전트 내비게이션 업데이트 하려고 하는데요. 방법이 어떻게 되나요?', '내비게이션 업데이트 방법은 기존 웹 다운로드 방식과 스마트 업데이터 방식이 있습니다.  스마트 업데이터 플러스 란? 현대자동차 순정 내비게이션 업그레이드를 손쉽게 자신의 컴퓨터에 다운로드 받아서 설치 할 수 있도록 도와주는 프로그램 입니다. ※  자세한 업데이트 방법은 당사 홈페이지 참고 바랍니다. ※  현대자동차 홈페이지   고객서비스   차량관리서비스   내비게이션 / 빌트인 캠 업데이트 바로가기 ▶ '], ['현대자동차에서 중고차를 구입할 수 있나요?', '저희 현대자동차는 신차를 제조하여 판매를 사업영역으로 하는 회사로 중고차의 매입 및 판매는 시행하지 않습니다. ※ 고객분들의 편리하고 안전한 중고차 거래를 위해 사이트 운영중이니 참고하시기 바랍니다. 현대자동차 홈페이지    고객서비스   차량관리서비스   중고차   내차팔기   바로가기 ▶ 단,현대자동차㈜는 통신판매 중개자로서 해당 사이트의 책임은 현대글로비스㈜와 ㈜유카에 있습니다.'], ['포인트는 유효기간이 있나요?', ' ▶ 현대카드M M포인트 및 현대자동차 제휴카드 포인트의 유효기간은 최초적립일로부터      만 5년 입니다. 따라서 이 기간이 지난 포인트는 최초적립일로부터 월단위로 소멸됩니다.'], ['보증 수리기간이 어떻게 되나요?', '모젠 단말기의 보증수리 기간은 구입한 신차의 보증 내용 및 규약에 종속됩니다. 현대자동차의 보증수리 기간은 차종, 동력전달장치, 일반부품 등에 따라 차이가 있으며, 모젠 단말기는 일반부품의 보증기간에 따릅니다.'], ['[가입] 블루링크가 장착된 차량을 중고로 구매하였습니다. 블루링크 가입이 가능한가요?', '블루링크 센터에 연락하시어 가입 신청을 하신 후 이용하실 수 있습니다.  ※ 차종에 따라 가입 완료 안내 문자 수신 후 차량 내 설정이 필요할 수 있습니다. ※ 중고차로 서비스 가입시에는 기본 서비스 무료 제공 혜택이 제공되지 않습니다. ※ 블루링크 센터      - 전화 : 1899-0606      - 업무시간 : 평일 09:00 ~ 18:00 (토/일요일 및 공휴일 휴무)']]\n"
     ]
    }
   ],
   "source": [
    "# 2페이지 수집 완료 후 csv작성\n",
    "data = []\n",
    "for i, j in zip(title, content):\n",
    "    # print(\"{} => {}\".format(i, j))\n",
    "    data.append([i, j])\n",
    "    \n",
    "print(data)\n",
    "with open('현대자동차.csv', 'a', newline='', encoding=\"utf-8\") as f:\n",
    "    writer = csv.writer(f)\n",
    "    writer.writerows(data)\n",
    "    f.close()"
   ]
  },
  {
   "cell_type": "code",
   "execution_count": 18,
   "id": "431832c7",
   "metadata": {},
   "outputs": [
    {
     "data": {
      "text/plain": [
       "<Response [200]>"
      ]
     },
     "execution_count": 18,
     "metadata": {},
     "output_type": "execute_result"
    }
   ],
   "source": [
    "# 페이지가 끝 페이지를 넘어가는 경우\n",
    "url = \"https://www.hyundai.com/wsvc/front/biz/frontFaq.faqListArr.do?searchKeyword=&pageNo=100&frontSupiCtgr=&frontCtgrScd=\"\n",
    "response = requests.get(url)\n",
    "response"
   ]
  },
  {
   "cell_type": "code",
   "execution_count": 19,
   "id": "625ea1d5",
   "metadata": {},
   "outputs": [
    {
     "data": {
      "text/plain": [
       "{'data': [], 'resultCode': '0000', 'message': '203'}"
      ]
     },
     "execution_count": 19,
     "metadata": {},
     "output_type": "execute_result"
    }
   ],
   "source": [
    "page = json.loads(response.text)\n",
    "page"
   ]
  },
  {
   "cell_type": "code",
   "execution_count": 20,
   "id": "16f8ff3c",
   "metadata": {},
   "outputs": [
    {
     "data": {
      "text/plain": [
       "[]"
      ]
     },
     "execution_count": 20,
     "metadata": {},
     "output_type": "execute_result"
    }
   ],
   "source": [
    "# 마지막 페이지가 넘어가면 title의 리스트에 아무것도 없음\n",
    "title = [i[\"frontFaqTitlSbc\"] for i in page[\"data\"]]\n",
    "title"
   ]
  },
  {
   "cell_type": "code",
   "execution_count": null,
   "id": "5eacbca5",
   "metadata": {},
   "outputs": [],
   "source": []
  }
 ],
 "metadata": {
  "kernelspec": {
   "display_name": ".venv",
   "language": "python",
   "name": "python3"
  },
  "language_info": {
   "codemirror_mode": {
    "name": "ipython",
    "version": 3
   },
   "file_extension": ".py",
   "mimetype": "text/x-python",
   "name": "python",
   "nbconvert_exporter": "python",
   "pygments_lexer": "ipython3",
   "version": "3.13.5"
  }
 },
 "nbformat": 4,
 "nbformat_minor": 5
}
